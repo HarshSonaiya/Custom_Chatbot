{
 "cells": [
  {
   "cell_type": "code",
   "execution_count": 32,
   "metadata": {},
   "outputs": [
    {
     "name": "stdout",
     "output_type": "stream",
     "text": [
      "Requirement already satisfied: langchain in d:\\internship assignements\\.venv\\lib\\site-packages (0.2.6)\n",
      "Requirement already satisfied: PyYAML>=5.3 in d:\\internship assignements\\.venv\\lib\\site-packages (from langchain) (6.0.1)\n",
      "Requirement already satisfied: SQLAlchemy<3,>=1.4 in d:\\internship assignements\\.venv\\lib\\site-packages (from langchain) (2.0.31)\n",
      "Requirement already satisfied: aiohttp<4.0.0,>=3.8.3 in d:\\internship assignements\\.venv\\lib\\site-packages (from langchain) (3.9.5)\n",
      "Requirement already satisfied: langchain-core<0.3.0,>=0.2.10 in d:\\internship assignements\\.venv\\lib\\site-packages (from langchain) (0.2.10)\n",
      "Requirement already satisfied: langchain-text-splitters<0.3.0,>=0.2.0 in d:\\internship assignements\\.venv\\lib\\site-packages (from langchain) (0.2.2)\n",
      "Requirement already satisfied: langsmith<0.2.0,>=0.1.17 in d:\\internship assignements\\.venv\\lib\\site-packages (from langchain) (0.1.82)\n",
      "Requirement already satisfied: numpy<2,>=1 in d:\\internship assignements\\.venv\\lib\\site-packages (from langchain) (1.26.4)\n",
      "Requirement already satisfied: pydantic<3,>=1 in d:\\internship assignements\\.venv\\lib\\site-packages (from langchain) (2.7.4)\n",
      "Requirement already satisfied: requests<3,>=2 in d:\\internship assignements\\.venv\\lib\\site-packages (from langchain) (2.32.3)\n",
      "Requirement already satisfied: tenacity!=8.4.0,<9.0.0,>=8.1.0 in d:\\internship assignements\\.venv\\lib\\site-packages (from langchain) (8.4.2)\n",
      "Requirement already satisfied: aiosignal>=1.1.2 in d:\\internship assignements\\.venv\\lib\\site-packages (from aiohttp<4.0.0,>=3.8.3->langchain) (1.3.1)\n",
      "Requirement already satisfied: attrs>=17.3.0 in d:\\internship assignements\\.venv\\lib\\site-packages (from aiohttp<4.0.0,>=3.8.3->langchain) (23.2.0)\n",
      "Requirement already satisfied: frozenlist>=1.1.1 in d:\\internship assignements\\.venv\\lib\\site-packages (from aiohttp<4.0.0,>=3.8.3->langchain) (1.4.1)\n",
      "Requirement already satisfied: multidict<7.0,>=4.5 in d:\\internship assignements\\.venv\\lib\\site-packages (from aiohttp<4.0.0,>=3.8.3->langchain) (6.0.5)\n",
      "Requirement already satisfied: yarl<2.0,>=1.0 in d:\\internship assignements\\.venv\\lib\\site-packages (from aiohttp<4.0.0,>=3.8.3->langchain) (1.9.4)\n",
      "Requirement already satisfied: jsonpatch<2.0,>=1.33 in d:\\internship assignements\\.venv\\lib\\site-packages (from langchain-core<0.3.0,>=0.2.10->langchain) (1.33)\n",
      "Requirement already satisfied: packaging<25,>=23.2 in d:\\internship assignements\\.venv\\lib\\site-packages (from langchain-core<0.3.0,>=0.2.10->langchain) (24.1)\n",
      "Requirement already satisfied: orjson<4.0.0,>=3.9.14 in d:\\internship assignements\\.venv\\lib\\site-packages (from langsmith<0.2.0,>=0.1.17->langchain) (3.10.5)\n",
      "Requirement already satisfied: annotated-types>=0.4.0 in d:\\internship assignements\\.venv\\lib\\site-packages (from pydantic<3,>=1->langchain) (0.7.0)\n",
      "Requirement already satisfied: pydantic-core==2.18.4 in d:\\internship assignements\\.venv\\lib\\site-packages (from pydantic<3,>=1->langchain) (2.18.4)\n",
      "Requirement already satisfied: typing-extensions>=4.6.1 in d:\\internship assignements\\.venv\\lib\\site-packages (from pydantic<3,>=1->langchain) (4.12.2)\n",
      "Requirement already satisfied: charset-normalizer<4,>=2 in d:\\internship assignements\\.venv\\lib\\site-packages (from requests<3,>=2->langchain) (3.3.2)\n",
      "Requirement already satisfied: idna<4,>=2.5 in d:\\internship assignements\\.venv\\lib\\site-packages (from requests<3,>=2->langchain) (3.7)\n",
      "Requirement already satisfied: urllib3<3,>=1.21.1 in d:\\internship assignements\\.venv\\lib\\site-packages (from requests<3,>=2->langchain) (2.2.2)\n",
      "Requirement already satisfied: certifi>=2017.4.17 in d:\\internship assignements\\.venv\\lib\\site-packages (from requests<3,>=2->langchain) (2024.6.2)\n",
      "Requirement already satisfied: greenlet!=0.4.17 in d:\\internship assignements\\.venv\\lib\\site-packages (from SQLAlchemy<3,>=1.4->langchain) (3.0.3)\n",
      "Requirement already satisfied: jsonpointer>=1.9 in d:\\internship assignements\\.venv\\lib\\site-packages (from jsonpatch<2.0,>=1.33->langchain-core<0.3.0,>=0.2.10->langchain) (3.0.0)\n",
      "Note: you may need to restart the kernel to use updated packages.\n",
      "Requirement already satisfied: faiss-cpu in d:\\internship assignements\\.venv\\lib\\site-packages (1.8.0.post1)\n",
      "Requirement already satisfied: numpy<2.0,>=1.0 in d:\\internship assignements\\.venv\\lib\\site-packages (from faiss-cpu) (1.26.4)\n",
      "Requirement already satisfied: packaging in d:\\internship assignements\\.venv\\lib\\site-packages (from faiss-cpu) (24.1)\n",
      "Note: you may need to restart the kernel to use updated packages.\n",
      "Requirement already satisfied: openai in d:\\internship assignements\\.venv\\lib\\site-packages (1.35.7)\n",
      "Requirement already satisfied: anyio<5,>=3.5.0 in d:\\internship assignements\\.venv\\lib\\site-packages (from openai) (4.4.0)\n",
      "Requirement already satisfied: distro<2,>=1.7.0 in d:\\internship assignements\\.venv\\lib\\site-packages (from openai) (1.9.0)\n",
      "Requirement already satisfied: httpx<1,>=0.23.0 in d:\\internship assignements\\.venv\\lib\\site-packages (from openai) (0.27.0)\n",
      "Requirement already satisfied: pydantic<3,>=1.9.0 in d:\\internship assignements\\.venv\\lib\\site-packages (from openai) (2.7.4)\n",
      "Requirement already satisfied: sniffio in d:\\internship assignements\\.venv\\lib\\site-packages (from openai) (1.3.1)\n",
      "Requirement already satisfied: tqdm>4 in d:\\internship assignements\\.venv\\lib\\site-packages (from openai) (4.66.4)\n",
      "Requirement already satisfied: typing-extensions<5,>=4.7 in d:\\internship assignements\\.venv\\lib\\site-packages (from openai) (4.12.2)\n",
      "Requirement already satisfied: idna>=2.8 in d:\\internship assignements\\.venv\\lib\\site-packages (from anyio<5,>=3.5.0->openai) (3.7)\n",
      "Requirement already satisfied: certifi in d:\\internship assignements\\.venv\\lib\\site-packages (from httpx<1,>=0.23.0->openai) (2024.6.2)\n",
      "Requirement already satisfied: httpcore==1.* in d:\\internship assignements\\.venv\\lib\\site-packages (from httpx<1,>=0.23.0->openai) (1.0.5)\n",
      "Requirement already satisfied: h11<0.15,>=0.13 in d:\\internship assignements\\.venv\\lib\\site-packages (from httpcore==1.*->httpx<1,>=0.23.0->openai) (0.14.0)\n",
      "Requirement already satisfied: annotated-types>=0.4.0 in d:\\internship assignements\\.venv\\lib\\site-packages (from pydantic<3,>=1.9.0->openai) (0.7.0)\n",
      "Requirement already satisfied: pydantic-core==2.18.4 in d:\\internship assignements\\.venv\\lib\\site-packages (from pydantic<3,>=1.9.0->openai) (2.18.4)\n",
      "Requirement already satisfied: colorama in d:\\internship assignements\\.venv\\lib\\site-packages (from tqdm>4->openai) (0.4.6)\n",
      "Note: you may need to restart the kernel to use updated packages.\n",
      "Requirement already satisfied: langchain-community in d:\\internship assignements\\.venv\\lib\\site-packages (0.2.6)\n",
      "Requirement already satisfied: PyYAML>=5.3 in d:\\internship assignements\\.venv\\lib\\site-packages (from langchain-community) (6.0.1)\n",
      "Requirement already satisfied: SQLAlchemy<3,>=1.4 in d:\\internship assignements\\.venv\\lib\\site-packages (from langchain-community) (2.0.31)\n",
      "Requirement already satisfied: aiohttp<4.0.0,>=3.8.3 in d:\\internship assignements\\.venv\\lib\\site-packages (from langchain-community) (3.9.5)\n",
      "Requirement already satisfied: dataclasses-json<0.7,>=0.5.7 in d:\\internship assignements\\.venv\\lib\\site-packages (from langchain-community) (0.6.7)\n",
      "Requirement already satisfied: langchain<0.3.0,>=0.2.6 in d:\\internship assignements\\.venv\\lib\\site-packages (from langchain-community) (0.2.6)\n",
      "Requirement already satisfied: langchain-core<0.3.0,>=0.2.10 in d:\\internship assignements\\.venv\\lib\\site-packages (from langchain-community) (0.2.10)\n",
      "Requirement already satisfied: langsmith<0.2.0,>=0.1.0 in d:\\internship assignements\\.venv\\lib\\site-packages (from langchain-community) (0.1.82)\n",
      "Requirement already satisfied: numpy<2,>=1 in d:\\internship assignements\\.venv\\lib\\site-packages (from langchain-community) (1.26.4)\n",
      "Requirement already satisfied: requests<3,>=2 in d:\\internship assignements\\.venv\\lib\\site-packages (from langchain-community) (2.32.3)\n",
      "Requirement already satisfied: tenacity!=8.4.0,<9.0.0,>=8.1.0 in d:\\internship assignements\\.venv\\lib\\site-packages (from langchain-community) (8.4.2)\n",
      "Requirement already satisfied: aiosignal>=1.1.2 in d:\\internship assignements\\.venv\\lib\\site-packages (from aiohttp<4.0.0,>=3.8.3->langchain-community) (1.3.1)\n",
      "Requirement already satisfied: attrs>=17.3.0 in d:\\internship assignements\\.venv\\lib\\site-packages (from aiohttp<4.0.0,>=3.8.3->langchain-community) (23.2.0)\n",
      "Requirement already satisfied: frozenlist>=1.1.1 in d:\\internship assignements\\.venv\\lib\\site-packages (from aiohttp<4.0.0,>=3.8.3->langchain-community) (1.4.1)\n",
      "Requirement already satisfied: multidict<7.0,>=4.5 in d:\\internship assignements\\.venv\\lib\\site-packages (from aiohttp<4.0.0,>=3.8.3->langchain-community) (6.0.5)\n",
      "Requirement already satisfied: yarl<2.0,>=1.0 in d:\\internship assignements\\.venv\\lib\\site-packages (from aiohttp<4.0.0,>=3.8.3->langchain-community) (1.9.4)\n",
      "Requirement already satisfied: marshmallow<4.0.0,>=3.18.0 in d:\\internship assignements\\.venv\\lib\\site-packages (from dataclasses-json<0.7,>=0.5.7->langchain-community) (3.21.3)\n",
      "Requirement already satisfied: typing-inspect<1,>=0.4.0 in d:\\internship assignements\\.venv\\lib\\site-packages (from dataclasses-json<0.7,>=0.5.7->langchain-community) (0.9.0)\n",
      "Requirement already satisfied: langchain-text-splitters<0.3.0,>=0.2.0 in d:\\internship assignements\\.venv\\lib\\site-packages (from langchain<0.3.0,>=0.2.6->langchain-community) (0.2.2)\n",
      "Requirement already satisfied: pydantic<3,>=1 in d:\\internship assignements\\.venv\\lib\\site-packages (from langchain<0.3.0,>=0.2.6->langchain-community) (2.7.4)\n",
      "Requirement already satisfied: jsonpatch<2.0,>=1.33 in d:\\internship assignements\\.venv\\lib\\site-packages (from langchain-core<0.3.0,>=0.2.10->langchain-community) (1.33)\n",
      "Requirement already satisfied: packaging<25,>=23.2 in d:\\internship assignements\\.venv\\lib\\site-packages (from langchain-core<0.3.0,>=0.2.10->langchain-community) (24.1)\n",
      "Requirement already satisfied: orjson<4.0.0,>=3.9.14 in d:\\internship assignements\\.venv\\lib\\site-packages (from langsmith<0.2.0,>=0.1.0->langchain-community) (3.10.5)\n",
      "Requirement already satisfied: charset-normalizer<4,>=2 in d:\\internship assignements\\.venv\\lib\\site-packages (from requests<3,>=2->langchain-community) (3.3.2)\n",
      "Requirement already satisfied: idna<4,>=2.5 in d:\\internship assignements\\.venv\\lib\\site-packages (from requests<3,>=2->langchain-community) (3.7)\n",
      "Requirement already satisfied: urllib3<3,>=1.21.1 in d:\\internship assignements\\.venv\\lib\\site-packages (from requests<3,>=2->langchain-community) (2.2.2)\n",
      "Requirement already satisfied: certifi>=2017.4.17 in d:\\internship assignements\\.venv\\lib\\site-packages (from requests<3,>=2->langchain-community) (2024.6.2)\n",
      "Requirement already satisfied: typing-extensions>=4.6.0 in d:\\internship assignements\\.venv\\lib\\site-packages (from SQLAlchemy<3,>=1.4->langchain-community) (4.12.2)\n",
      "Requirement already satisfied: greenlet!=0.4.17 in d:\\internship assignements\\.venv\\lib\\site-packages (from SQLAlchemy<3,>=1.4->langchain-community) (3.0.3)\n",
      "Requirement already satisfied: jsonpointer>=1.9 in d:\\internship assignements\\.venv\\lib\\site-packages (from jsonpatch<2.0,>=1.33->langchain-core<0.3.0,>=0.2.10->langchain-community) (3.0.0)\n",
      "Requirement already satisfied: annotated-types>=0.4.0 in d:\\internship assignements\\.venv\\lib\\site-packages (from pydantic<3,>=1->langchain<0.3.0,>=0.2.6->langchain-community) (0.7.0)\n",
      "Requirement already satisfied: pydantic-core==2.18.4 in d:\\internship assignements\\.venv\\lib\\site-packages (from pydantic<3,>=1->langchain<0.3.0,>=0.2.6->langchain-community) (2.18.4)\n",
      "Requirement already satisfied: mypy-extensions>=0.3.0 in d:\\internship assignements\\.venv\\lib\\site-packages (from typing-inspect<1,>=0.4.0->dataclasses-json<0.7,>=0.5.7->langchain-community) (1.0.0)\n",
      "Note: you may need to restart the kernel to use updated packages.\n",
      "Requirement already satisfied: unstructured in d:\\internship assignements\\.venv\\lib\\site-packages (0.14.9)\n",
      "Requirement already satisfied: chardet in d:\\internship assignements\\.venv\\lib\\site-packages (from unstructured) (5.2.0)\n",
      "Requirement already satisfied: filetype in d:\\internship assignements\\.venv\\lib\\site-packages (from unstructured) (1.2.0)\n",
      "Requirement already satisfied: python-magic in d:\\internship assignements\\.venv\\lib\\site-packages (from unstructured) (0.4.27)\n",
      "Requirement already satisfied: lxml in d:\\internship assignements\\.venv\\lib\\site-packages (from unstructured) (5.2.2)\n",
      "Requirement already satisfied: nltk in d:\\internship assignements\\.venv\\lib\\site-packages (from unstructured) (3.8.1)\n",
      "Requirement already satisfied: tabulate in d:\\internship assignements\\.venv\\lib\\site-packages (from unstructured) (0.9.0)\n",
      "Requirement already satisfied: requests in d:\\internship assignements\\.venv\\lib\\site-packages (from unstructured) (2.32.3)\n",
      "Requirement already satisfied: beautifulsoup4 in d:\\internship assignements\\.venv\\lib\\site-packages (from unstructured) (4.12.3)\n",
      "Requirement already satisfied: emoji in d:\\internship assignements\\.venv\\lib\\site-packages (from unstructured) (2.12.1)\n",
      "Requirement already satisfied: dataclasses-json in d:\\internship assignements\\.venv\\lib\\site-packages (from unstructured) (0.6.7)\n",
      "Requirement already satisfied: python-iso639 in d:\\internship assignements\\.venv\\lib\\site-packages (from unstructured) (2024.4.27)\n",
      "Requirement already satisfied: langdetect in d:\\internship assignements\\.venv\\lib\\site-packages (from unstructured) (1.0.9)\n",
      "Requirement already satisfied: numpy<2 in d:\\internship assignements\\.venv\\lib\\site-packages (from unstructured) (1.26.4)\n",
      "Requirement already satisfied: rapidfuzz in d:\\internship assignements\\.venv\\lib\\site-packages (from unstructured) (3.9.3)\n",
      "Requirement already satisfied: backoff in d:\\internship assignements\\.venv\\lib\\site-packages (from unstructured) (2.2.1)\n",
      "Requirement already satisfied: typing-extensions in d:\\internship assignements\\.venv\\lib\\site-packages (from unstructured) (4.12.2)\n",
      "Requirement already satisfied: unstructured-client in d:\\internship assignements\\.venv\\lib\\site-packages (from unstructured) (0.23.8)\n",
      "Requirement already satisfied: wrapt in d:\\internship assignements\\.venv\\lib\\site-packages (from unstructured) (1.16.0)\n",
      "Requirement already satisfied: tqdm in d:\\internship assignements\\.venv\\lib\\site-packages (from unstructured) (4.66.4)\n",
      "Requirement already satisfied: soupsieve>1.2 in d:\\internship assignements\\.venv\\lib\\site-packages (from beautifulsoup4->unstructured) (2.5)\n",
      "Requirement already satisfied: marshmallow<4.0.0,>=3.18.0 in d:\\internship assignements\\.venv\\lib\\site-packages (from dataclasses-json->unstructured) (3.21.3)\n",
      "Requirement already satisfied: typing-inspect<1,>=0.4.0 in d:\\internship assignements\\.venv\\lib\\site-packages (from dataclasses-json->unstructured) (0.9.0)\n",
      "Requirement already satisfied: six in d:\\internship assignements\\.venv\\lib\\site-packages (from langdetect->unstructured) (1.16.0)\n",
      "Requirement already satisfied: click in d:\\internship assignements\\.venv\\lib\\site-packages (from nltk->unstructured) (8.1.7)\n",
      "Requirement already satisfied: joblib in d:\\internship assignements\\.venv\\lib\\site-packages (from nltk->unstructured) (1.4.2)\n",
      "Requirement already satisfied: regex>=2021.8.3 in d:\\internship assignements\\.venv\\lib\\site-packages (from nltk->unstructured) (2024.5.15)\n",
      "Requirement already satisfied: charset-normalizer<4,>=2 in d:\\internship assignements\\.venv\\lib\\site-packages (from requests->unstructured) (3.3.2)\n",
      "Requirement already satisfied: idna<4,>=2.5 in d:\\internship assignements\\.venv\\lib\\site-packages (from requests->unstructured) (3.7)\n",
      "Requirement already satisfied: urllib3<3,>=1.21.1 in d:\\internship assignements\\.venv\\lib\\site-packages (from requests->unstructured) (2.2.2)\n",
      "Requirement already satisfied: certifi>=2017.4.17 in d:\\internship assignements\\.venv\\lib\\site-packages (from requests->unstructured) (2024.6.2)\n",
      "Requirement already satisfied: colorama in d:\\internship assignements\\.venv\\lib\\site-packages (from tqdm->unstructured) (0.4.6)\n",
      "Requirement already satisfied: deepdiff>=6.0 in d:\\internship assignements\\.venv\\lib\\site-packages (from unstructured-client->unstructured) (7.0.1)\n",
      "Requirement already satisfied: httpx>=0.27.0 in d:\\internship assignements\\.venv\\lib\\site-packages (from unstructured-client->unstructured) (0.27.0)\n",
      "Requirement already satisfied: jsonpath-python>=1.0.6 in d:\\internship assignements\\.venv\\lib\\site-packages (from unstructured-client->unstructured) (1.0.6)\n",
      "Requirement already satisfied: mypy-extensions>=1.0.0 in d:\\internship assignements\\.venv\\lib\\site-packages (from unstructured-client->unstructured) (1.0.0)\n",
      "Requirement already satisfied: nest-asyncio>=1.6.0 in d:\\internship assignements\\.venv\\lib\\site-packages (from unstructured-client->unstructured) (1.6.0)\n",
      "Requirement already satisfied: packaging>=23.1 in d:\\internship assignements\\.venv\\lib\\site-packages (from unstructured-client->unstructured) (24.1)\n",
      "Requirement already satisfied: pypdf>=4.0 in d:\\internship assignements\\.venv\\lib\\site-packages (from unstructured-client->unstructured) (4.2.0)\n",
      "Requirement already satisfied: python-dateutil>=2.8.2 in d:\\internship assignements\\.venv\\lib\\site-packages (from unstructured-client->unstructured) (2.9.0.post0)\n",
      "Requirement already satisfied: requests-toolbelt>=1.0.0 in d:\\internship assignements\\.venv\\lib\\site-packages (from unstructured-client->unstructured) (1.0.0)\n",
      "Requirement already satisfied: ordered-set<4.2.0,>=4.1.0 in d:\\internship assignements\\.venv\\lib\\site-packages (from deepdiff>=6.0->unstructured-client->unstructured) (4.1.0)\n",
      "Requirement already satisfied: anyio in d:\\internship assignements\\.venv\\lib\\site-packages (from httpx>=0.27.0->unstructured-client->unstructured) (4.4.0)\n",
      "Requirement already satisfied: httpcore==1.* in d:\\internship assignements\\.venv\\lib\\site-packages (from httpx>=0.27.0->unstructured-client->unstructured) (1.0.5)\n",
      "Requirement already satisfied: sniffio in d:\\internship assignements\\.venv\\lib\\site-packages (from httpx>=0.27.0->unstructured-client->unstructured) (1.3.1)\n",
      "Requirement already satisfied: h11<0.15,>=0.13 in d:\\internship assignements\\.venv\\lib\\site-packages (from httpcore==1.*->httpx>=0.27.0->unstructured-client->unstructured) (0.14.0)\n",
      "Note: you may need to restart the kernel to use updated packages.\n"
     ]
    }
   ],
   "source": [
    "%pip install langchain\n",
    "%pip install faiss-cpu\n",
    "%pip install openai\n",
    "%pip install -U langchain-community\n",
    "%pip install unstructured"
   ]
  },
  {
   "cell_type": "code",
   "execution_count": 33,
   "metadata": {},
   "outputs": [],
   "source": [
    "import os\n",
    "os.environ[\"OPENAI_API_KEY\"] = 'sk-proj-6SDFLydhUFR9dhja4OyBT3BlbkFJCLRSH1l0SCtRCJdVhcJg'"
   ]
  },
  {
   "cell_type": "code",
   "execution_count": 34,
   "metadata": {},
   "outputs": [],
   "source": [
    "urls=[\n",
    "    'https://brainlox.com/courses/category/technical'\n",
    "]"
   ]
  },
  {
   "cell_type": "code",
   "execution_count": 35,
   "metadata": {},
   "outputs": [],
   "source": [
    "from langchain.document_loaders import UnstructuredURLLoader\n",
    "loaders = UnstructuredURLLoader(urls=urls)\n",
    "data = loaders.load()"
   ]
  },
  {
   "cell_type": "code",
   "execution_count": 36,
   "metadata": {},
   "outputs": [
    {
     "data": {
      "text/plain": [
       "[Document(page_content='Courses TechnicalAcademicLanguageMusicLifestyle\\n\\nBook a Free Demo Now\\n\\nSign In\\n\\n\\n\\nFAQ\\n\\nContact Us\\n\\nPractice Python\\n\\nLearn Now\\n\\nHome\\n\\nCourses\\n\\nCourses\\n\\nWe found great courses available for you\\n\\n$20\\n\\nper session\\n\\nLEARN SCRATCH PROGRAMING\\n\\nScratch Course is the foundation of coding and is a building block of a coding journey. If you want\\n\\n16 Lessons\\n\\nView Details\\n\\n$30\\n\\nper session\\n\\nLEARN CLOUD COMPUTING BASICS-AWS\\n\\nIn this course we are going to cover the basics and the most important services on AWS,\\nAt the end\\n\\n20 Lessons\\n\\nView Details\\n\\n$20\\n\\nper session\\n\\nLEARN MOBILE DEVELOPMENT\\n\\nMobile application development is the process of creating software applications that run on a mobil\\n\\n24 Lessons\\n\\nView Details\\n\\n$20\\n\\nper session\\n\\nLEARN CORE JAVA PROGRAMMING ONLINE\\n\\nJava is a very popular high-level, class-based, object-oriented programming language that is design\\n\\n41 Lessons\\n\\nView Details\\n\\n$20\\n\\nper session\\n\\nLEARN ROBOTICS\\n\\nYou can open all kinds of doors for advancement in so many careers with a basic understanding of el\\n\\n25 Lessons\\n\\nView Details\\n\\n$20\\n\\nper session\\n\\nLEARN JAVASCRIPT\\n\\nJavaScript is the most popular programming language in the world. It powers the entire modern web.\\n\\n18 Lessons\\n\\nView Details\\n\\n$20\\n\\nper session\\n\\nLEARN NODE JS\\n\\nNode.js developers are in high demand and the language is used for everything from traditional web\\n\\n18 Lessons\\n\\nView Details\\n\\n$35\\n\\nper session\\n\\nLEARN CLOUD COMPUTING ADVANCE-AWS\\n\\nDESCRIPTION\\n\\nThis introduction to cloud computing on Amazon AWS course takes you from the AWS Ad\\n\\n18 Lessons\\n\\nView Details\\n\\n$20\\n\\nper session\\n\\nPYTHON PROGRAMMING-BEGINNER\\n\\nPython is a language with simple syntax, and a powerful set of libraries. It has a rich programming\\n\\n16 Lessons\\n\\nView Details\\n\\n$30\\n\\nper session\\n\\nRoblox Programming For Beginners\\n\\nExplore the dynamic universe of game development with our \"Roblox Game Development Fundamentals\" cou\\n\\n15 Lessons\\n\\nView Details\\n\\n$20\\n\\nper session\\n\\nPYTHON PROGRAMMING-INTERMEDIATE\\n\\nTake your python skills to the next level and start building real applications.\\n\\nPython is a pro\\n\\n16 Lessons\\n\\nView Details\\n\\n$25\\n\\nper session\\n\\nPYTHON PROGRAMMING-ADVANCE\\n\\nIf you already know Python basics, then this training is the next step in your Python learning path\\n\\n30 Lessons\\n\\nView Details\\n\\n$20\\n\\nper session\\n\\nPYTHON PROGRAMMING GROUP CLASSES - BEGINNER\\n\\nPython is a language with simple syntax, and a powerful set of libraries. It has a rich programming\\n\\n16 Lessons\\n\\nView Details\\n\\n$30\\n\\nper session\\n\\nAdvanced Roblox Scripting Workshop\\n\\n\"Are you ready to unlock the full potential of your Roblox game development skills? Join our Interme\\n\\n14 Lessons\\n\\nView Details\\n\\n$20\\n\\nper session\\n\\nRobotics Adventure Awaits:Join Our Summer Camp for Young Tech Wizards!\\n\\nThis course is designed to introduce beginners to the world of robotics. Learners will be taught the\\n\\n16 Lessons\\n\\nView Details\\n\\n$20\\n\\nper session\\n\\nJava Project-Based Course\\n\\nJava Project-Based Course for Intermediate Level Students ;Overview: This course is designed for int\\n\\n7 Lessons\\n\\nView Details\\n\\n$22\\n\\nper session\\n\\nArtificial Intelligence Adventures: Building AI Chatbot Like Chatgpt (For Kids)\\n\\nUnlock the power of AI chatbots in our 10-day course! Gain comprehensive knowledge of chatbot develo\\n\\n10 Lessons\\n\\nView Details\\n\\n$20\\n\\nper session\\n\\nPython Playground: Create a Hangman Game\\n\\nPython Playground : Create a Hangman Game is an exciting and engaging course designed specifically f\\n\\n8 Lessons\\n\\nView Details\\n\\n$20\\n\\nper session\\n\\nScratch Playground: Create a Maze Game!\\n\\nScratch Playground : Create a Maze Game! is a beginner-level course designed to introduce kids to th\\n\\n8 Lessons\\n\\nView Details\\n\\n$13\\n\\nper session\\n\\nArtificial Intelligence Essentials: Summer Bootcamp\\n\\nJoin us for this engaging 5-day summer bootcamp where we will explore the fascinating world of Artif\\n\\n5 Lessons\\n\\nView Details\\n\\n$25\\n\\nper session\\n\\nTime Mastery Camp: AI for Jobs, Business, Careers\\n\\nThe \"AI for Productivity and Time Management\" course: 🚀💡\\nDay 1: Introduction to AI and its Applica\\n\\n11 Lessons\\n\\nView Details\\n\\n$20\\n\\nper session\\n\\nBuild Your Own Theme Park in Roblox\\n\\nRoblox Studio fundamentals are taught through fun and interactive projects. Lectures, projects, hand\\n\\n8 Lessons\\n\\nView Details\\n\\n$12\\n\\nper session\\n\\nJava Coding Summer Camp for Young Minds\\n\\nJava Journey: Coding Camp for Curious Minds\" is a fun-filled, 5-day adventure into the world of prog\\n\\n5 Lessons\\n\\nView Details\\n\\n$25\\n\\nper session\\n\\nAI Camp for Entrepreneurs: Build Business Success\\n\\nWelcome to the world of AI in entrepreneurship!  In this course, we will embark on a thrilling journ\\n\\n7 Lessons\\n\\nView Details\\n\\n$12\\n\\nper session\\n\\nChatGPT Boot Camp: Basics & Best Uses\\n\\nJoin us for an exciting journey into the world of AI chatbots with this 5-day bootcamp. You\\'ll learn\\n\\n5 Lessons\\n\\nView Details\\n\\n$13\\n\\nper session\\n\\nCreate-A-Bot: A Project-Based Robotics Exploration\\n\\nIgnite your child\\'s tech curiosity with our \"RoboRacers\" camp! Over five days, campers will delve in\\n\\n5 Lessons\\n\\nView Details\\n\\n$20\\n\\nper session\\n\\nJava & Proramming\\n\\n\" Project outline for JAVA PROJECT BASED BOOTCAMP\\n1: Introduction to Java and Programming Basics.\\n2.\\n\\n8 Lessons\\n\\nView Details\\n\\n$13\\n\\nper session\\n\\nChatbot Creators: Design a ChatGPT-like AI\\n\\nJoin us on a 7-day bootcamp to step into the world of AI and create your own chatbot like ChatGPT. Y\\n\\n7 Lessons\\n\\nView Details\\n\\n$30\\n\\nper session\\n\\nWeb Development from scratch\\n\\nUnlock the boundless potential of web development with our \"Web Development Essentials\" course. Whet\\n\\n6 Lessons\\n\\nView Details\\n\\n$11\\n\\nper session\\n\\nSummer Camp: Introduction to Python\\n\\nStep into our 7-day \"Python Project Playground\" camp where coding meets creativity! Kids will explor\\n\\n7 Lessons\\n\\nView Details\\n\\n$22\\n\\nper session\\n\\nAI Secrets Revealed: Master Productivity Hacks That Will Blow Your Mind! (For Kids)\\n\\nBoost your productivity with AI! \\n\\nJoin our \"AI for Productivity and Time Management\" course and lea\\n\\n11 Lessons\\n\\nView Details\\n\\n$12\\n\\nper session\\n\\nSummer Bootcamp with JavaScript: Real Projects, Real Results\\n\\nIn this 5-day camp, you\\'ll dive headfirst into JavaScript, one of the world\\'s most popular programmi\\n\\n5 Lessons\\n\\nView Details\\n\\n$22\\n\\nper session\\n\\nAI Disruption: Top Entrepreneurs Harnessing AI for Unprecedented Success! (For Kids)\\n\\nUnderstand the role and potential of AI in entrepreneurship, learn the fundamentals, explore data ac\\n\\n7 Lessons\\n\\nView Details\\n\\n$22\\n\\nper session\\n\\nThe AI Writer\\'s Masterclass: Innovation and Inspiration in Creative Writing! (For Kids)\\n\\nEnhance your creative writing skills with AI! Join our 10-day course and explore AI\\'s role in writin\\n\\n10 Lessons\\n\\nView Details\\n\\n$30\\n\\nper session\\n\\nWeb Development Pro: Intermediate Level\\n\\nReady to unlock the full potential of web development? Join our \"Intermediate Web Development Master\\n\\n8 Lessons\\n\\nView Details\\n\\n$20\\n\\nper session\\n\\nScratch Playground: Create a Scroller Game!\\n\\nScratch Playground : Create a Scroller Game is an intermediate level course designed to teach kids t\\n\\n8 Lessons\\n\\nView Details\\n\\n$25\\n\\nper session\\n\\nAI Pro: Creative Writing Camp for Adults\\n\\n🚀 Welcome to Creative Writing with AI for ADULTS! \\nUnleash your creativity with cutting-edge AI tec\\n\\n10 Lessons\\n\\nView Details\\n\\n$20\\n\\nper session\\n\\nPython Playground: Create Your Own Snake Game\\n\\nThrough this course, participants will learn the fundamentals of Python programming language, as wel\\n\\n8 Lessons\\n\\nView Details\\n\\n$20\\n\\nper session\\n\\nBuild your own Calculator using Python Bootcamp for kids\\n\\nThis bootcamp is a fun and engaging program designed to introduce children to the basics of programm\\n\\n8 Lessons\\n\\nView Details\\n\\n$20\\n\\nper session\\n\\nPython Playground: Create a Tic Tac Toe Game\\n\\nAn interactive and hands-on tutorial designed to help learners build their programming skills while\\n\\n8 Lessons\\n\\nView Details\\n\\n$20\\n\\nper session\\n\\nScratch Playground: Create a Flappy Bird Game!\\n\\nScratch Playground 103: Create a Flappy Bird is a beginner to intermediate level course designed to\\n\\n8 Lessons\\n\\nView Details\\n\\n$12\\n\\nper session\\n\\nHTML, CSS, JavaScript: 7-Day Summer Bootcamp\\n\\nJump into the vibrant world of coding with our engaging 7-day summer camp! Starting from scratch, yo\\n\\n7 Lessons\\n\\nView Details\\n\\n$11\\n\\nper session\\n\\nHands-on Java: Project-based Learning for Coding Novices\\n\\nEmbark on a coding adventure with our \"Code, Create, Conquer\" Java camp! In just 7 days, kids will l\\n\\n7 Lessons\\n\\nView Details\\n\\n$20\\n\\nper session\\n\\nPython Playground: Create a Memory Game\\n\\nPython Playground: Create a Memory Game is a beginner-level course designed for kids who are interes\\n\\n8 Lessons\\n\\nView Details\\n\\n$12\\n\\nper session\\n\\nSummer Bootcamp: 5-Day Scratch Programming for Beginners\\n\\nEmbark on an exciting coding adventure with our 5-day Scratch Programming camp! Designed for beginne\\n\\n5 Lessons\\n\\nView Details\\n\\n$12\\n\\nper session\\n\\n5-Day Summer Camp: Python for Beginners\\n\\nDive into coding with our 5-day \"Python Playground\" camp! Kids will explore Python, a popular langua\\n\\n5 Lessons\\n\\nView Details\\n\\n$20\\n\\nper session\\n\\nBuild a Text analyzer using Python Bootcamp for kids\\n\\nThe Build a Text Analyzer using Python Bootcamp for Kids is an educational program designed to intro\\n\\n8 Lessons\\n\\nView Details\\n\\n$20\\n\\nper session\\n\\nScratch Playground : Create a Platformer Game!\\n\\nScratch Playground : Create a Platformer Game is an intermediate level course designed to teach kids\\n\\n8 Lessons\\n\\nView Details\\n\\n$30\\n\\nper session\\n\\nIntroduction to Artificial Intelligence!\\n\\nWelcome to the \"Introduction to Artificial Intelligence and Python\" course! This course is designed\\n\\n5 Lessons\\n\\nView Details\\n\\n$20\\n\\nper session\\n\\nPython Playground: Create a Rock, Paper, Scissors Game\\n\\nThis is an engaging course designed for kids who are interested in learning programming with Python.\\n\\n8 Lessons\\n\\nView Details\\n\\n$25\\n\\nper session\\n\\nAI in Stock Market Success: Career Growth Camp !!\\n\\nAre you ready to unlock the secrets of predicting stock prices using AI? 📈🤖 Join our immersive cou\\n\\n10 Lessons\\n\\nView Details\\n\\n$22\\n\\nper session\\n\\nFrom Beginner to AI Pro: Kickstart Your Journey With Artificial Intelligence! (For Kids)\\n\\nDive into the world of AI! 🤖 Join our \"Introduction to Artificial Intelligence\" course and unlock t\\n\\n20 Lessons\\n\\nView Details\\n\\n$30\\n\\nper session\\n\\nGame development using python\\n\\nWelcome to the \"Introduction to Python Game Development\" course! In this course, you\\'ll embark on a\\n\\n4 Lessons\\n\\nView Details\\n\\n$20\\n\\nper session\\n\\nBuild a Image manipulator using Python Bootcamp for kids\\n\\nThe Build a Image Manipulator using Python Bootcamp for Kids is a program designed to introduce chil\\n\\n8 Lessons\\n\\nView Details\\n\\n$20\\n\\nper session\\n\\nBuild a Weather app using Python Bootcamp for kids\\n\\nBuild a Weather App using Python Bootcamp for Kids is an educational program designed to introduce y\\n\\n8 Lessons\\n\\nView Details\\n\\n$20\\n\\nper session\\n\\nBuild Your Own Roblox Battle Arena\\n\\nRoblox Studio fundamentals are taught through fun and interactive projects. Lectures, projects, hand\\n\\n8 Lessons\\n\\nView Details\\n\\n$22\\n\\nper session\\n\\nThe Millionaire\\'s AI Playbook: Learn How to Predict Stock Prices! (For Kids)\\n\\nLearn to predict stock prices using the incredible potential of AI and machine learning in our compr\\n\\n10 Lessons\\n\\nView Details\\n\\n$11\\n\\nper session\\n\\nMachine Learning: 7-Day Project-Based Summer Camp\\n\\nJoin our \"Machine Learning Mania\" camp for a 7-day tech adventure! Kids will tackle machine learning\\n\\n7 Lessons\\n\\nView Details\\n\\n$25\\n\\nper session\\n\\nAI Pro Camp: Career Growth Catalyst\\n\\nOur Intro to AI for Adults course is designed to equip professionals with essential knowledge and pr\\n\\n20 Lessons\\n\\nView Details\\n\\n$20\\n\\nper session\\n\\nMinecraft Java Programming for Beginners\\n\\nSession-1: Introduction to Java programming and Minecraft. Lesson 2: Getting Started in Creative Mod\\n\\n7 Lessons\\n\\nView Details\\n\\n$20\\n\\nper session\\n\\nBuild a Chatbot using Python Bootcamp for kids\\n\\nThis bootcamp is a fun and interactive program designed to teach children how to create their own ch\\n\\n8 Lessons\\n\\nView Details\\n\\n$20\\n\\nper session\\n\\nBuild a Password generator using Python Bootcamp for kids\\n\\nWelcome to the Build a Password Generator using Python Bootcamp for Kids! In this bootcamp, you will\\n\\n8 Lessons\\n\\nView Details\\n\\n$20\\n\\nper session\\n\\nScratch Playground: Create a Space Game!\\n\\nScratch Playground : Create a Space Game is an intermediate-level course designed to introduce kids\\n\\n8 Lessons\\n\\nView Details\\n\\n$20\\n\\nper session\\n\\nCreate Your Own Roblox Obstacle Course\\n\\nRoblox enthusiasts who want to learn how to design and build their own custom obstacle courses withi\\n\\n8 Lessons\\n\\nView Details\\n\\n$20\\n\\nper session\\n\\nJava Minecraft Creative or Survival Mode\\n\\n1. Title: Minecraft Java Programming for Beginners Overview: This class is designed for complete beg\\n\\n7 Lessons\\n\\nView Details\\n\\n$25\\n\\nper session\\n\\nAI Camp for Jobs & Business:Build Your own ChatGPT\\n\\n🌟Welcome to the Chatbot Mastery Course! 🎓\\n\\nGet ready to unlock the secrets of building intelligent\\n\\n10 Lessons\\n\\nView Details\\n\\n$13\\n\\nper session\\n\\nHTML, CSS, JavaScript Essentials: 5-Day Coding Bootcamp\\n\\nUnleash your creativity in our fun and interactive 5-day summer camp. No prior experience needed. Yo\\n\\n5 Lessons\\n\\nView Details\\n\\nWorking to bring significant changes in online-based learning by doing extensive research for course curriculum preparation, student engagements, and looking forward to the flexible education!\\n\\n\\n\\n\\n\\n\\n\\n\\n\\n\\n\\nExplore\\n\\nHome\\n\\nCourses\\n\\nGift a Course\\n\\nShare a Message\\n\\nResources\\n\\nFAQ\\n\\nContact\\n\\nAddress\\n\\nUSA\\n\\n(+1) 414 429 3937\\n\\nsupport@brainlox.com\\n\\n(+1) 414 429 3937\\n\\n2024 Brainlox\\n\\nPrivacy Policy\\n\\nTerms & Conditions', metadata={'source': 'https://brainlox.com/courses/category/technical'})]"
      ]
     },
     "execution_count": 36,
     "metadata": {},
     "output_type": "execute_result"
    }
   ],
   "source": [
    "data"
   ]
  },
  {
   "cell_type": "code",
   "execution_count": 37,
   "metadata": {},
   "outputs": [],
   "source": [
    "from langchain.text_splitter import CharacterTextSplitter\n",
    "\n",
    "text_splitter = CharacterTextSplitter(separator='\\n',\n",
    "                                     chunk_size=1100,\n",
    "                                     chunk_overlap=200)\n",
    "\n",
    "docs = text_splitter.split_documents(data)"
   ]
  },
  {
   "cell_type": "code",
   "execution_count": 38,
   "metadata": {},
   "outputs": [
    {
     "data": {
      "text/plain": [
       "[Document(page_content='Courses TechnicalAcademicLanguageMusicLifestyle\\nBook a Free Demo Now\\nSign In\\nFAQ\\nContact Us\\nPractice Python\\nLearn Now\\nHome\\nCourses\\nCourses\\nWe found great courses available for you\\n$20\\nper session\\nLEARN SCRATCH PROGRAMING\\nScratch Course is the foundation of coding and is a building block of a coding journey. If you want\\n16 Lessons\\nView Details\\n$30\\nper session\\nLEARN CLOUD COMPUTING BASICS-AWS\\nIn this course we are going to cover the basics and the most important services on AWS,\\nAt the end\\n20 Lessons\\nView Details\\n$20\\nper session\\nLEARN MOBILE DEVELOPMENT\\nMobile application development is the process of creating software applications that run on a mobil\\n24 Lessons\\nView Details\\n$20\\nper session\\nLEARN CORE JAVA PROGRAMMING ONLINE\\nJava is a very popular high-level, class-based, object-oriented programming language that is design\\n41 Lessons\\nView Details\\n$20\\nper session\\nLEARN ROBOTICS\\nYou can open all kinds of doors for advancement in so many careers with a basic understanding of el\\n25 Lessons\\nView Details\\n$20\\nper session\\nLEARN JAVASCRIPT', metadata={'source': 'https://brainlox.com/courses/category/technical'}),\n",
       " Document(page_content='View Details\\n$20\\nper session\\nLEARN ROBOTICS\\nYou can open all kinds of doors for advancement in so many careers with a basic understanding of el\\n25 Lessons\\nView Details\\n$20\\nper session\\nLEARN JAVASCRIPT\\nJavaScript is the most popular programming language in the world. It powers the entire modern web.\\n18 Lessons\\nView Details\\n$20\\nper session\\nLEARN NODE JS\\nNode.js developers are in high demand and the language is used for everything from traditional web\\n18 Lessons\\nView Details\\n$35\\nper session\\nLEARN CLOUD COMPUTING ADVANCE-AWS\\nDESCRIPTION\\nThis introduction to cloud computing on Amazon AWS course takes you from the AWS Ad\\n18 Lessons\\nView Details\\n$20\\nper session\\nPYTHON PROGRAMMING-BEGINNER\\nPython is a language with simple syntax, and a powerful set of libraries. It has a rich programming\\n16 Lessons\\nView Details\\n$30\\nper session\\nRoblox Programming For Beginners\\nExplore the dynamic universe of game development with our \"Roblox Game Development Fundamentals\" cou\\n15 Lessons\\nView Details\\n$20\\nper session\\nPYTHON PROGRAMMING-INTERMEDIATE', metadata={'source': 'https://brainlox.com/courses/category/technical'}),\n",
       " Document(page_content='Explore the dynamic universe of game development with our \"Roblox Game Development Fundamentals\" cou\\n15 Lessons\\nView Details\\n$20\\nper session\\nPYTHON PROGRAMMING-INTERMEDIATE\\nTake your python skills to the next level and start building real applications.\\nPython is a pro\\n16 Lessons\\nView Details\\n$25\\nper session\\nPYTHON PROGRAMMING-ADVANCE\\nIf you already know Python basics, then this training is the next step in your Python learning path\\n30 Lessons\\nView Details\\n$20\\nper session\\nPYTHON PROGRAMMING GROUP CLASSES - BEGINNER\\nPython is a language with simple syntax, and a powerful set of libraries. It has a rich programming\\n16 Lessons\\nView Details\\n$30\\nper session\\nAdvanced Roblox Scripting Workshop\\n\"Are you ready to unlock the full potential of your Roblox game development skills? Join our Interme\\n14 Lessons\\nView Details\\n$20\\nper session\\nRobotics Adventure Awaits:Join Our Summer Camp for Young Tech Wizards!\\nThis course is designed to introduce beginners to the world of robotics. Learners will be taught the\\n16 Lessons\\nView Details\\n$20\\nper session\\nJava Project-Based Course', metadata={'source': 'https://brainlox.com/courses/category/technical'}),\n",
       " Document(page_content='This course is designed to introduce beginners to the world of robotics. Learners will be taught the\\n16 Lessons\\nView Details\\n$20\\nper session\\nJava Project-Based Course\\nJava Project-Based Course for Intermediate Level Students ;Overview: This course is designed for int\\n7 Lessons\\nView Details\\n$22\\nper session\\nArtificial Intelligence Adventures: Building AI Chatbot Like Chatgpt (For Kids)\\nUnlock the power of AI chatbots in our 10-day course! Gain comprehensive knowledge of chatbot develo\\n10 Lessons\\nView Details\\n$20\\nper session\\nPython Playground: Create a Hangman Game\\nPython Playground : Create a Hangman Game is an exciting and engaging course designed specifically f\\n8 Lessons\\nView Details\\n$20\\nper session\\nScratch Playground: Create a Maze Game!\\nScratch Playground : Create a Maze Game! is a beginner-level course designed to introduce kids to th\\n8 Lessons\\nView Details\\n$13\\nper session\\nArtificial Intelligence Essentials: Summer Bootcamp\\nJoin us for this engaging 5-day summer bootcamp where we will explore the fascinating world of Artif\\n5 Lessons\\nView Details\\n$25\\nper session', metadata={'source': 'https://brainlox.com/courses/category/technical'}),\n",
       " Document(page_content='Artificial Intelligence Essentials: Summer Bootcamp\\nJoin us for this engaging 5-day summer bootcamp where we will explore the fascinating world of Artif\\n5 Lessons\\nView Details\\n$25\\nper session\\nTime Mastery Camp: AI for Jobs, Business, Careers\\nThe \"AI for Productivity and Time Management\" course: 🚀💡\\nDay 1: Introduction to AI and its Applica\\n11 Lessons\\nView Details\\n$20\\nper session\\nBuild Your Own Theme Park in Roblox\\nRoblox Studio fundamentals are taught through fun and interactive projects. Lectures, projects, hand\\n8 Lessons\\nView Details\\n$12\\nper session\\nJava Coding Summer Camp for Young Minds\\nJava Journey: Coding Camp for Curious Minds\" is a fun-filled, 5-day adventure into the world of prog\\n5 Lessons\\nView Details\\n$25\\nper session\\nAI Camp for Entrepreneurs: Build Business Success\\nWelcome to the world of AI in entrepreneurship!  In this course, we will embark on a thrilling journ\\n7 Lessons\\nView Details\\n$12\\nper session\\nChatGPT Boot Camp: Basics & Best Uses\\nJoin us for an exciting journey into the world of AI chatbots with this 5-day bootcamp. You\\'ll learn\\n5 Lessons\\nView Details\\n$13', metadata={'source': 'https://brainlox.com/courses/category/technical'}),\n",
       " Document(page_content='View Details\\n$12\\nper session\\nChatGPT Boot Camp: Basics & Best Uses\\nJoin us for an exciting journey into the world of AI chatbots with this 5-day bootcamp. You\\'ll learn\\n5 Lessons\\nView Details\\n$13\\nper session\\nCreate-A-Bot: A Project-Based Robotics Exploration\\nIgnite your child\\'s tech curiosity with our \"RoboRacers\" camp! Over five days, campers will delve in\\n5 Lessons\\nView Details\\n$20\\nper session\\nJava & Proramming\\n\" Project outline for JAVA PROJECT BASED BOOTCAMP\\n1: Introduction to Java and Programming Basics.\\n2.\\n8 Lessons\\nView Details\\n$13\\nper session\\nChatbot Creators: Design a ChatGPT-like AI\\nJoin us on a 7-day bootcamp to step into the world of AI and create your own chatbot like ChatGPT. Y\\n7 Lessons\\nView Details\\n$30\\nper session\\nWeb Development from scratch\\nUnlock the boundless potential of web development with our \"Web Development Essentials\" course. Whet\\n6 Lessons\\nView Details\\n$11\\nper session\\nSummer Camp: Introduction to Python\\nStep into our 7-day \"Python Project Playground\" camp where coding meets creativity! Kids will explor\\n7 Lessons\\nView Details\\n$22\\nper session', metadata={'source': 'https://brainlox.com/courses/category/technical'}),\n",
       " Document(page_content='$11\\nper session\\nSummer Camp: Introduction to Python\\nStep into our 7-day \"Python Project Playground\" camp where coding meets creativity! Kids will explor\\n7 Lessons\\nView Details\\n$22\\nper session\\nAI Secrets Revealed: Master Productivity Hacks That Will Blow Your Mind! (For Kids)\\nBoost your productivity with AI! \\nJoin our \"AI for Productivity and Time Management\" course and lea\\n11 Lessons\\nView Details\\n$12\\nper session\\nSummer Bootcamp with JavaScript: Real Projects, Real Results\\nIn this 5-day camp, you\\'ll dive headfirst into JavaScript, one of the world\\'s most popular programmi\\n5 Lessons\\nView Details\\n$22\\nper session\\nAI Disruption: Top Entrepreneurs Harnessing AI for Unprecedented Success! (For Kids)\\nUnderstand the role and potential of AI in entrepreneurship, learn the fundamentals, explore data ac\\n7 Lessons\\nView Details\\n$22\\nper session\\nThe AI Writer\\'s Masterclass: Innovation and Inspiration in Creative Writing! (For Kids)\\nEnhance your creative writing skills with AI! Join our 10-day course and explore AI\\'s role in writin\\n10 Lessons\\nView Details\\n$30\\nper session', metadata={'source': 'https://brainlox.com/courses/category/technical'}),\n",
       " Document(page_content='Enhance your creative writing skills with AI! Join our 10-day course and explore AI\\'s role in writin\\n10 Lessons\\nView Details\\n$30\\nper session\\nWeb Development Pro: Intermediate Level\\nReady to unlock the full potential of web development? Join our \"Intermediate Web Development Master\\n8 Lessons\\nView Details\\n$20\\nper session\\nScratch Playground: Create a Scroller Game!\\nScratch Playground : Create a Scroller Game is an intermediate level course designed to teach kids t\\n8 Lessons\\nView Details\\n$25\\nper session\\nAI Pro: Creative Writing Camp for Adults\\n🚀 Welcome to Creative Writing with AI for ADULTS! \\nUnleash your creativity with cutting-edge AI tec\\n10 Lessons\\nView Details\\n$20\\nper session\\nPython Playground: Create Your Own Snake Game\\nThrough this course, participants will learn the fundamentals of Python programming language, as wel\\n8 Lessons\\nView Details\\n$20\\nper session\\nBuild your own Calculator using Python Bootcamp for kids\\nThis bootcamp is a fun and engaging program designed to introduce children to the basics of programm\\n8 Lessons\\nView Details\\n$20\\nper session', metadata={'source': 'https://brainlox.com/courses/category/technical'}),\n",
       " Document(page_content='Build your own Calculator using Python Bootcamp for kids\\nThis bootcamp is a fun and engaging program designed to introduce children to the basics of programm\\n8 Lessons\\nView Details\\n$20\\nper session\\nPython Playground: Create a Tic Tac Toe Game\\nAn interactive and hands-on tutorial designed to help learners build their programming skills while\\n8 Lessons\\nView Details\\n$20\\nper session\\nScratch Playground: Create a Flappy Bird Game!\\nScratch Playground 103: Create a Flappy Bird is a beginner to intermediate level course designed to\\n8 Lessons\\nView Details\\n$12\\nper session\\nHTML, CSS, JavaScript: 7-Day Summer Bootcamp\\nJump into the vibrant world of coding with our engaging 7-day summer camp! Starting from scratch, yo\\n7 Lessons\\nView Details\\n$11\\nper session\\nHands-on Java: Project-based Learning for Coding Novices\\nEmbark on a coding adventure with our \"Code, Create, Conquer\" Java camp! In just 7 days, kids will l\\n7 Lessons\\nView Details\\n$20\\nper session\\nPython Playground: Create a Memory Game\\nPython Playground: Create a Memory Game is a beginner-level course designed for kids who are interes\\n8 Lessons', metadata={'source': 'https://brainlox.com/courses/category/technical'}),\n",
       " Document(page_content='7 Lessons\\nView Details\\n$20\\nper session\\nPython Playground: Create a Memory Game\\nPython Playground: Create a Memory Game is a beginner-level course designed for kids who are interes\\n8 Lessons\\nView Details\\n$12\\nper session\\nSummer Bootcamp: 5-Day Scratch Programming for Beginners\\nEmbark on an exciting coding adventure with our 5-day Scratch Programming camp! Designed for beginne\\n5 Lessons\\nView Details\\n$12\\nper session\\n5-Day Summer Camp: Python for Beginners\\nDive into coding with our 5-day \"Python Playground\" camp! Kids will explore Python, a popular langua\\n5 Lessons\\nView Details\\n$20\\nper session\\nBuild a Text analyzer using Python Bootcamp for kids\\nThe Build a Text Analyzer using Python Bootcamp for Kids is an educational program designed to intro\\n8 Lessons\\nView Details\\n$20\\nper session\\nScratch Playground : Create a Platformer Game!\\nScratch Playground : Create a Platformer Game is an intermediate level course designed to teach kids\\n8 Lessons\\nView Details\\n$30\\nper session\\nIntroduction to Artificial Intelligence!', metadata={'source': 'https://brainlox.com/courses/category/technical'}),\n",
       " Document(page_content='Scratch Playground : Create a Platformer Game is an intermediate level course designed to teach kids\\n8 Lessons\\nView Details\\n$30\\nper session\\nIntroduction to Artificial Intelligence!\\nWelcome to the \"Introduction to Artificial Intelligence and Python\" course! This course is designed\\n5 Lessons\\nView Details\\n$20\\nper session\\nPython Playground: Create a Rock, Paper, Scissors Game\\nThis is an engaging course designed for kids who are interested in learning programming with Python.\\n8 Lessons\\nView Details\\n$25\\nper session\\nAI in Stock Market Success: Career Growth Camp !!\\nAre you ready to unlock the secrets of predicting stock prices using AI? 📈🤖 Join our immersive cou\\n10 Lessons\\nView Details\\n$22\\nper session\\nFrom Beginner to AI Pro: Kickstart Your Journey With Artificial Intelligence! (For Kids)\\nDive into the world of AI! 🤖 Join our \"Introduction to Artificial Intelligence\" course and unlock t\\n20 Lessons\\nView Details\\n$30\\nper session\\nGame development using python\\nWelcome to the \"Introduction to Python Game Development\" course! In this course, you\\'ll embark on a\\n4 Lessons\\nView Details\\n$20', metadata={'source': 'https://brainlox.com/courses/category/technical'}),\n",
       " Document(page_content='20 Lessons\\nView Details\\n$30\\nper session\\nGame development using python\\nWelcome to the \"Introduction to Python Game Development\" course! In this course, you\\'ll embark on a\\n4 Lessons\\nView Details\\n$20\\nper session\\nBuild a Image manipulator using Python Bootcamp for kids\\nThe Build a Image Manipulator using Python Bootcamp for Kids is a program designed to introduce chil\\n8 Lessons\\nView Details\\n$20\\nper session\\nBuild a Weather app using Python Bootcamp for kids\\nBuild a Weather App using Python Bootcamp for Kids is an educational program designed to introduce y\\n8 Lessons\\nView Details\\n$20\\nper session\\nBuild Your Own Roblox Battle Arena\\nRoblox Studio fundamentals are taught through fun and interactive projects. Lectures, projects, hand\\n8 Lessons\\nView Details\\n$22\\nper session\\nThe Millionaire\\'s AI Playbook: Learn How to Predict Stock Prices! (For Kids)\\nLearn to predict stock prices using the incredible potential of AI and machine learning in our compr\\n10 Lessons\\nView Details\\n$11\\nper session\\nMachine Learning: 7-Day Project-Based Summer Camp', metadata={'source': 'https://brainlox.com/courses/category/technical'}),\n",
       " Document(page_content='Learn to predict stock prices using the incredible potential of AI and machine learning in our compr\\n10 Lessons\\nView Details\\n$11\\nper session\\nMachine Learning: 7-Day Project-Based Summer Camp\\nJoin our \"Machine Learning Mania\" camp for a 7-day tech adventure! Kids will tackle machine learning\\n7 Lessons\\nView Details\\n$25\\nper session\\nAI Pro Camp: Career Growth Catalyst\\nOur Intro to AI for Adults course is designed to equip professionals with essential knowledge and pr\\n20 Lessons\\nView Details\\n$20\\nper session\\nMinecraft Java Programming for Beginners\\nSession-1: Introduction to Java programming and Minecraft. Lesson 2: Getting Started in Creative Mod\\n7 Lessons\\nView Details\\n$20\\nper session\\nBuild a Chatbot using Python Bootcamp for kids\\nThis bootcamp is a fun and interactive program designed to teach children how to create their own ch\\n8 Lessons\\nView Details\\n$20\\nper session\\nBuild a Password generator using Python Bootcamp for kids\\nWelcome to the Build a Password Generator using Python Bootcamp for Kids! In this bootcamp, you will\\n8 Lessons\\nView Details\\n$20\\nper session', metadata={'source': 'https://brainlox.com/courses/category/technical'}),\n",
       " Document(page_content='Build a Password generator using Python Bootcamp for kids\\nWelcome to the Build a Password Generator using Python Bootcamp for Kids! In this bootcamp, you will\\n8 Lessons\\nView Details\\n$20\\nper session\\nScratch Playground: Create a Space Game!\\nScratch Playground : Create a Space Game is an intermediate-level course designed to introduce kids\\n8 Lessons\\nView Details\\n$20\\nper session\\nCreate Your Own Roblox Obstacle Course\\nRoblox enthusiasts who want to learn how to design and build their own custom obstacle courses withi\\n8 Lessons\\nView Details\\n$20\\nper session\\nJava Minecraft Creative or Survival Mode\\n1. Title: Minecraft Java Programming for Beginners Overview: This class is designed for complete beg\\n7 Lessons\\nView Details\\n$25\\nper session\\nAI Camp for Jobs & Business:Build Your own ChatGPT\\n🌟Welcome to the Chatbot Mastery Course! 🎓\\nGet ready to unlock the secrets of building intelligent\\n10 Lessons\\nView Details\\n$13\\nper session\\nHTML, CSS, JavaScript Essentials: 5-Day Coding Bootcamp\\nUnleash your creativity in our fun and interactive 5-day summer camp. No prior experience needed. Yo\\n5 Lessons', metadata={'source': 'https://brainlox.com/courses/category/technical'}),\n",
       " Document(page_content='View Details\\n$13\\nper session\\nHTML, CSS, JavaScript Essentials: 5-Day Coding Bootcamp\\nUnleash your creativity in our fun and interactive 5-day summer camp. No prior experience needed. Yo\\n5 Lessons\\nView Details\\nWorking to bring significant changes in online-based learning by doing extensive research for course curriculum preparation, student engagements, and looking forward to the flexible education!\\nExplore\\nHome\\nCourses\\nGift a Course\\nShare a Message\\nResources\\nFAQ\\nContact\\nAddress\\nUSA\\n(+1) 414 429 3937\\nsupport@brainlox.com\\n(+1) 414 429 3937\\n2024 Brainlox\\nPrivacy Policy\\nTerms & Conditions', metadata={'source': 'https://brainlox.com/courses/category/technical'})]"
      ]
     },
     "execution_count": 38,
     "metadata": {},
     "output_type": "execute_result"
    }
   ],
   "source": [
    "docs"
   ]
  },
  {
   "cell_type": "code",
   "execution_count": 39,
   "metadata": {},
   "outputs": [],
   "source": [
    "import pickle\n",
    "import faiss\n",
    "from langchain.vectorstores import FAISS\n",
    "from langchain.embeddings import OpenAIEmbeddings\n",
    "\n",
    "embeddings = OpenAIEmbeddings()"
   ]
  },
  {
   "cell_type": "code",
   "execution_count": 40,
   "metadata": {},
   "outputs": [
    {
     "name": "stdout",
     "output_type": "stream",
     "text": [
      "Requirement already satisfied: tiktoken in d:\\internship assignements\\.venv\\lib\\site-packages (0.7.0)\n",
      "Requirement already satisfied: regex>=2022.1.18 in d:\\internship assignements\\.venv\\lib\\site-packages (from tiktoken) (2024.5.15)\n",
      "Requirement already satisfied: requests>=2.26.0 in d:\\internship assignements\\.venv\\lib\\site-packages (from tiktoken) (2.32.3)\n",
      "Requirement already satisfied: charset-normalizer<4,>=2 in d:\\internship assignements\\.venv\\lib\\site-packages (from requests>=2.26.0->tiktoken) (3.3.2)\n",
      "Requirement already satisfied: idna<4,>=2.5 in d:\\internship assignements\\.venv\\lib\\site-packages (from requests>=2.26.0->tiktoken) (3.7)\n",
      "Requirement already satisfied: urllib3<3,>=1.21.1 in d:\\internship assignements\\.venv\\lib\\site-packages (from requests>=2.26.0->tiktoken) (2.2.2)\n",
      "Requirement already satisfied: certifi>=2017.4.17 in d:\\internship assignements\\.venv\\lib\\site-packages (from requests>=2.26.0->tiktoken) (2024.6.2)\n",
      "Note: you may need to restart the kernel to use updated packages.\n"
     ]
    }
   ],
   "source": [
    "%pip install tiktoken"
   ]
  },
  {
   "cell_type": "code",
   "execution_count": 41,
   "metadata": {},
   "outputs": [
    {
     "ename": "RateLimitError",
     "evalue": "Error code: 429 - {'error': {'message': 'You exceeded your current quota, please check your plan and billing details. For more information on this error, read the docs: https://platform.openai.com/docs/guides/error-codes/api-errors.', 'type': 'insufficient_quota', 'param': None, 'code': 'insufficient_quota'}}",
     "output_type": "error",
     "traceback": [
      "\u001b[1;31m---------------------------------------------------------------------------\u001b[0m",
      "\u001b[1;31mRateLimitError\u001b[0m                            Traceback (most recent call last)",
      "Cell \u001b[1;32mIn[41], line 1\u001b[0m\n\u001b[1;32m----> 1\u001b[0m vectorstore_openAI \u001b[38;5;241m=\u001b[39m \u001b[43mFAISS\u001b[49m\u001b[38;5;241;43m.\u001b[39;49m\u001b[43mfrom_documents\u001b[49m\u001b[43m(\u001b[49m\u001b[43mdocs\u001b[49m\u001b[43m,\u001b[49m\u001b[43membeddings\u001b[49m\u001b[43m)\u001b[49m\n\u001b[0;32m      3\u001b[0m \u001b[38;5;28;01mwith\u001b[39;00m \u001b[38;5;28mopen\u001b[39m(\u001b[38;5;124m\"\u001b[39m\u001b[38;5;124mfaiss_store_openai.pkl\u001b[39m\u001b[38;5;124m\"\u001b[39m,\u001b[38;5;124m\"\u001b[39m\u001b[38;5;124mwb\u001b[39m\u001b[38;5;124m\"\u001b[39m) \u001b[38;5;28;01mas\u001b[39;00m f :\n\u001b[0;32m      4\u001b[0m     pickle\u001b[38;5;241m.\u001b[39mdump(vectorstore_openAI,f)\n",
      "File \u001b[1;32md:\\Internship Assignements\\.venv\\Lib\\site-packages\\langchain_core\\vectorstores.py:635\u001b[0m, in \u001b[0;36mVectorStore.from_documents\u001b[1;34m(cls, documents, embedding, **kwargs)\u001b[0m\n\u001b[0;32m    633\u001b[0m texts \u001b[38;5;241m=\u001b[39m [d\u001b[38;5;241m.\u001b[39mpage_content \u001b[38;5;28;01mfor\u001b[39;00m d \u001b[38;5;129;01min\u001b[39;00m documents]\n\u001b[0;32m    634\u001b[0m metadatas \u001b[38;5;241m=\u001b[39m [d\u001b[38;5;241m.\u001b[39mmetadata \u001b[38;5;28;01mfor\u001b[39;00m d \u001b[38;5;129;01min\u001b[39;00m documents]\n\u001b[1;32m--> 635\u001b[0m \u001b[38;5;28;01mreturn\u001b[39;00m \u001b[38;5;28;43mcls\u001b[39;49m\u001b[38;5;241;43m.\u001b[39;49m\u001b[43mfrom_texts\u001b[49m\u001b[43m(\u001b[49m\u001b[43mtexts\u001b[49m\u001b[43m,\u001b[49m\u001b[43m \u001b[49m\u001b[43membedding\u001b[49m\u001b[43m,\u001b[49m\u001b[43m \u001b[49m\u001b[43mmetadatas\u001b[49m\u001b[38;5;241;43m=\u001b[39;49m\u001b[43mmetadatas\u001b[49m\u001b[43m,\u001b[49m\u001b[43m \u001b[49m\u001b[38;5;241;43m*\u001b[39;49m\u001b[38;5;241;43m*\u001b[39;49m\u001b[43mkwargs\u001b[49m\u001b[43m)\u001b[49m\n",
      "File \u001b[1;32md:\\Internship Assignements\\.venv\\Lib\\site-packages\\langchain_community\\vectorstores\\faiss.py:930\u001b[0m, in \u001b[0;36mFAISS.from_texts\u001b[1;34m(cls, texts, embedding, metadatas, ids, **kwargs)\u001b[0m\n\u001b[0;32m    903\u001b[0m \u001b[38;5;129m@classmethod\u001b[39m\n\u001b[0;32m    904\u001b[0m \u001b[38;5;28;01mdef\u001b[39;00m \u001b[38;5;21mfrom_texts\u001b[39m(\n\u001b[0;32m    905\u001b[0m     \u001b[38;5;28mcls\u001b[39m,\n\u001b[1;32m   (...)\u001b[0m\n\u001b[0;32m    910\u001b[0m     \u001b[38;5;241m*\u001b[39m\u001b[38;5;241m*\u001b[39mkwargs: Any,\n\u001b[0;32m    911\u001b[0m ) \u001b[38;5;241m-\u001b[39m\u001b[38;5;241m>\u001b[39m FAISS:\n\u001b[0;32m    912\u001b[0m \u001b[38;5;250m    \u001b[39m\u001b[38;5;124;03m\"\"\"Construct FAISS wrapper from raw documents.\u001b[39;00m\n\u001b[0;32m    913\u001b[0m \n\u001b[0;32m    914\u001b[0m \u001b[38;5;124;03m    This is a user friendly interface that:\u001b[39;00m\n\u001b[1;32m   (...)\u001b[0m\n\u001b[0;32m    928\u001b[0m \u001b[38;5;124;03m            faiss = FAISS.from_texts(texts, embeddings)\u001b[39;00m\n\u001b[0;32m    929\u001b[0m \u001b[38;5;124;03m    \"\"\"\u001b[39;00m\n\u001b[1;32m--> 930\u001b[0m     embeddings \u001b[38;5;241m=\u001b[39m \u001b[43membedding\u001b[49m\u001b[38;5;241;43m.\u001b[39;49m\u001b[43membed_documents\u001b[49m\u001b[43m(\u001b[49m\u001b[43mtexts\u001b[49m\u001b[43m)\u001b[49m\n\u001b[0;32m    931\u001b[0m     \u001b[38;5;28;01mreturn\u001b[39;00m \u001b[38;5;28mcls\u001b[39m\u001b[38;5;241m.\u001b[39m__from(\n\u001b[0;32m    932\u001b[0m         texts,\n\u001b[0;32m    933\u001b[0m         embeddings,\n\u001b[1;32m   (...)\u001b[0m\n\u001b[0;32m    937\u001b[0m         \u001b[38;5;241m*\u001b[39m\u001b[38;5;241m*\u001b[39mkwargs,\n\u001b[0;32m    938\u001b[0m     )\n",
      "File \u001b[1;32md:\\Internship Assignements\\.venv\\Lib\\site-packages\\langchain_community\\embeddings\\openai.py:668\u001b[0m, in \u001b[0;36mOpenAIEmbeddings.embed_documents\u001b[1;34m(self, texts, chunk_size)\u001b[0m\n\u001b[0;32m    665\u001b[0m \u001b[38;5;66;03m# NOTE: to keep things simple, we assume the list may contain texts longer\u001b[39;00m\n\u001b[0;32m    666\u001b[0m \u001b[38;5;66;03m#       than the maximum context and use length-safe embedding function.\u001b[39;00m\n\u001b[0;32m    667\u001b[0m engine \u001b[38;5;241m=\u001b[39m cast(\u001b[38;5;28mstr\u001b[39m, \u001b[38;5;28mself\u001b[39m\u001b[38;5;241m.\u001b[39mdeployment)\n\u001b[1;32m--> 668\u001b[0m \u001b[38;5;28;01mreturn\u001b[39;00m \u001b[38;5;28;43mself\u001b[39;49m\u001b[38;5;241;43m.\u001b[39;49m\u001b[43m_get_len_safe_embeddings\u001b[49m\u001b[43m(\u001b[49m\u001b[43mtexts\u001b[49m\u001b[43m,\u001b[49m\u001b[43m \u001b[49m\u001b[43mengine\u001b[49m\u001b[38;5;241;43m=\u001b[39;49m\u001b[43mengine\u001b[49m\u001b[43m)\u001b[49m\n",
      "File \u001b[1;32md:\\Internship Assignements\\.venv\\Lib\\site-packages\\langchain_community\\embeddings\\openai.py:494\u001b[0m, in \u001b[0;36mOpenAIEmbeddings._get_len_safe_embeddings\u001b[1;34m(self, texts, engine, chunk_size)\u001b[0m\n\u001b[0;32m    492\u001b[0m batched_embeddings: List[List[\u001b[38;5;28mfloat\u001b[39m]] \u001b[38;5;241m=\u001b[39m []\n\u001b[0;32m    493\u001b[0m \u001b[38;5;28;01mfor\u001b[39;00m i \u001b[38;5;129;01min\u001b[39;00m _iter:\n\u001b[1;32m--> 494\u001b[0m     response \u001b[38;5;241m=\u001b[39m \u001b[43membed_with_retry\u001b[49m\u001b[43m(\u001b[49m\n\u001b[0;32m    495\u001b[0m \u001b[43m        \u001b[49m\u001b[38;5;28;43mself\u001b[39;49m\u001b[43m,\u001b[49m\n\u001b[0;32m    496\u001b[0m \u001b[43m        \u001b[49m\u001b[38;5;28;43minput\u001b[39;49m\u001b[38;5;241;43m=\u001b[39;49m\u001b[43mtokens\u001b[49m\u001b[43m[\u001b[49m\u001b[43mi\u001b[49m\u001b[43m \u001b[49m\u001b[43m:\u001b[49m\u001b[43m \u001b[49m\u001b[43mi\u001b[49m\u001b[43m \u001b[49m\u001b[38;5;241;43m+\u001b[39;49m\u001b[43m \u001b[49m\u001b[43m_chunk_size\u001b[49m\u001b[43m]\u001b[49m\u001b[43m,\u001b[49m\n\u001b[0;32m    497\u001b[0m \u001b[43m        \u001b[49m\u001b[38;5;241;43m*\u001b[39;49m\u001b[38;5;241;43m*\u001b[39;49m\u001b[38;5;28;43mself\u001b[39;49m\u001b[38;5;241;43m.\u001b[39;49m\u001b[43m_invocation_params\u001b[49m\u001b[43m,\u001b[49m\n\u001b[0;32m    498\u001b[0m \u001b[43m    \u001b[49m\u001b[43m)\u001b[49m\n\u001b[0;32m    499\u001b[0m     \u001b[38;5;28;01mif\u001b[39;00m \u001b[38;5;129;01mnot\u001b[39;00m \u001b[38;5;28misinstance\u001b[39m(response, \u001b[38;5;28mdict\u001b[39m):\n\u001b[0;32m    500\u001b[0m         response \u001b[38;5;241m=\u001b[39m response\u001b[38;5;241m.\u001b[39mdict()\n",
      "File \u001b[1;32md:\\Internship Assignements\\.venv\\Lib\\site-packages\\langchain_community\\embeddings\\openai.py:116\u001b[0m, in \u001b[0;36membed_with_retry\u001b[1;34m(embeddings, **kwargs)\u001b[0m\n\u001b[0;32m    114\u001b[0m \u001b[38;5;250m\u001b[39m\u001b[38;5;124;03m\"\"\"Use tenacity to retry the embedding call.\"\"\"\u001b[39;00m\n\u001b[0;32m    115\u001b[0m \u001b[38;5;28;01mif\u001b[39;00m is_openai_v1():\n\u001b[1;32m--> 116\u001b[0m     \u001b[38;5;28;01mreturn\u001b[39;00m \u001b[43membeddings\u001b[49m\u001b[38;5;241;43m.\u001b[39;49m\u001b[43mclient\u001b[49m\u001b[38;5;241;43m.\u001b[39;49m\u001b[43mcreate\u001b[49m\u001b[43m(\u001b[49m\u001b[38;5;241;43m*\u001b[39;49m\u001b[38;5;241;43m*\u001b[39;49m\u001b[43mkwargs\u001b[49m\u001b[43m)\u001b[49m\n\u001b[0;32m    117\u001b[0m retry_decorator \u001b[38;5;241m=\u001b[39m _create_retry_decorator(embeddings)\n\u001b[0;32m    119\u001b[0m \u001b[38;5;129m@retry_decorator\u001b[39m\n\u001b[0;32m    120\u001b[0m \u001b[38;5;28;01mdef\u001b[39;00m \u001b[38;5;21m_embed_with_retry\u001b[39m(\u001b[38;5;241m*\u001b[39m\u001b[38;5;241m*\u001b[39mkwargs: Any) \u001b[38;5;241m-\u001b[39m\u001b[38;5;241m>\u001b[39m Any:\n",
      "File \u001b[1;32md:\\Internship Assignements\\.venv\\Lib\\site-packages\\openai\\resources\\embeddings.py:114\u001b[0m, in \u001b[0;36mEmbeddings.create\u001b[1;34m(self, input, model, dimensions, encoding_format, user, extra_headers, extra_query, extra_body, timeout)\u001b[0m\n\u001b[0;32m    108\u001b[0m         embedding\u001b[38;5;241m.\u001b[39membedding \u001b[38;5;241m=\u001b[39m np\u001b[38;5;241m.\u001b[39mfrombuffer(  \u001b[38;5;66;03m# type: ignore[no-untyped-call]\u001b[39;00m\n\u001b[0;32m    109\u001b[0m             base64\u001b[38;5;241m.\u001b[39mb64decode(data), dtype\u001b[38;5;241m=\u001b[39m\u001b[38;5;124m\"\u001b[39m\u001b[38;5;124mfloat32\u001b[39m\u001b[38;5;124m\"\u001b[39m\n\u001b[0;32m    110\u001b[0m         )\u001b[38;5;241m.\u001b[39mtolist()\n\u001b[0;32m    112\u001b[0m     \u001b[38;5;28;01mreturn\u001b[39;00m obj\n\u001b[1;32m--> 114\u001b[0m \u001b[38;5;28;01mreturn\u001b[39;00m \u001b[38;5;28;43mself\u001b[39;49m\u001b[38;5;241;43m.\u001b[39;49m\u001b[43m_post\u001b[49m\u001b[43m(\u001b[49m\n\u001b[0;32m    115\u001b[0m \u001b[43m    \u001b[49m\u001b[38;5;124;43m\"\u001b[39;49m\u001b[38;5;124;43m/embeddings\u001b[39;49m\u001b[38;5;124;43m\"\u001b[39;49m\u001b[43m,\u001b[49m\n\u001b[0;32m    116\u001b[0m \u001b[43m    \u001b[49m\u001b[43mbody\u001b[49m\u001b[38;5;241;43m=\u001b[39;49m\u001b[43mmaybe_transform\u001b[49m\u001b[43m(\u001b[49m\u001b[43mparams\u001b[49m\u001b[43m,\u001b[49m\u001b[43m \u001b[49m\u001b[43membedding_create_params\u001b[49m\u001b[38;5;241;43m.\u001b[39;49m\u001b[43mEmbeddingCreateParams\u001b[49m\u001b[43m)\u001b[49m\u001b[43m,\u001b[49m\n\u001b[0;32m    117\u001b[0m \u001b[43m    \u001b[49m\u001b[43moptions\u001b[49m\u001b[38;5;241;43m=\u001b[39;49m\u001b[43mmake_request_options\u001b[49m\u001b[43m(\u001b[49m\n\u001b[0;32m    118\u001b[0m \u001b[43m        \u001b[49m\u001b[43mextra_headers\u001b[49m\u001b[38;5;241;43m=\u001b[39;49m\u001b[43mextra_headers\u001b[49m\u001b[43m,\u001b[49m\n\u001b[0;32m    119\u001b[0m \u001b[43m        \u001b[49m\u001b[43mextra_query\u001b[49m\u001b[38;5;241;43m=\u001b[39;49m\u001b[43mextra_query\u001b[49m\u001b[43m,\u001b[49m\n\u001b[0;32m    120\u001b[0m \u001b[43m        \u001b[49m\u001b[43mextra_body\u001b[49m\u001b[38;5;241;43m=\u001b[39;49m\u001b[43mextra_body\u001b[49m\u001b[43m,\u001b[49m\n\u001b[0;32m    121\u001b[0m \u001b[43m        \u001b[49m\u001b[43mtimeout\u001b[49m\u001b[38;5;241;43m=\u001b[39;49m\u001b[43mtimeout\u001b[49m\u001b[43m,\u001b[49m\n\u001b[0;32m    122\u001b[0m \u001b[43m        \u001b[49m\u001b[43mpost_parser\u001b[49m\u001b[38;5;241;43m=\u001b[39;49m\u001b[43mparser\u001b[49m\u001b[43m,\u001b[49m\n\u001b[0;32m    123\u001b[0m \u001b[43m    \u001b[49m\u001b[43m)\u001b[49m\u001b[43m,\u001b[49m\n\u001b[0;32m    124\u001b[0m \u001b[43m    \u001b[49m\u001b[43mcast_to\u001b[49m\u001b[38;5;241;43m=\u001b[39;49m\u001b[43mCreateEmbeddingResponse\u001b[49m\u001b[43m,\u001b[49m\n\u001b[0;32m    125\u001b[0m \u001b[43m\u001b[49m\u001b[43m)\u001b[49m\n",
      "File \u001b[1;32md:\\Internship Assignements\\.venv\\Lib\\site-packages\\openai\\_base_client.py:1250\u001b[0m, in \u001b[0;36mSyncAPIClient.post\u001b[1;34m(self, path, cast_to, body, options, files, stream, stream_cls)\u001b[0m\n\u001b[0;32m   1236\u001b[0m \u001b[38;5;28;01mdef\u001b[39;00m \u001b[38;5;21mpost\u001b[39m(\n\u001b[0;32m   1237\u001b[0m     \u001b[38;5;28mself\u001b[39m,\n\u001b[0;32m   1238\u001b[0m     path: \u001b[38;5;28mstr\u001b[39m,\n\u001b[1;32m   (...)\u001b[0m\n\u001b[0;32m   1245\u001b[0m     stream_cls: \u001b[38;5;28mtype\u001b[39m[_StreamT] \u001b[38;5;241m|\u001b[39m \u001b[38;5;28;01mNone\u001b[39;00m \u001b[38;5;241m=\u001b[39m \u001b[38;5;28;01mNone\u001b[39;00m,\n\u001b[0;32m   1246\u001b[0m ) \u001b[38;5;241m-\u001b[39m\u001b[38;5;241m>\u001b[39m ResponseT \u001b[38;5;241m|\u001b[39m _StreamT:\n\u001b[0;32m   1247\u001b[0m     opts \u001b[38;5;241m=\u001b[39m FinalRequestOptions\u001b[38;5;241m.\u001b[39mconstruct(\n\u001b[0;32m   1248\u001b[0m         method\u001b[38;5;241m=\u001b[39m\u001b[38;5;124m\"\u001b[39m\u001b[38;5;124mpost\u001b[39m\u001b[38;5;124m\"\u001b[39m, url\u001b[38;5;241m=\u001b[39mpath, json_data\u001b[38;5;241m=\u001b[39mbody, files\u001b[38;5;241m=\u001b[39mto_httpx_files(files), \u001b[38;5;241m*\u001b[39m\u001b[38;5;241m*\u001b[39moptions\n\u001b[0;32m   1249\u001b[0m     )\n\u001b[1;32m-> 1250\u001b[0m     \u001b[38;5;28;01mreturn\u001b[39;00m cast(ResponseT, \u001b[38;5;28;43mself\u001b[39;49m\u001b[38;5;241;43m.\u001b[39;49m\u001b[43mrequest\u001b[49m\u001b[43m(\u001b[49m\u001b[43mcast_to\u001b[49m\u001b[43m,\u001b[49m\u001b[43m \u001b[49m\u001b[43mopts\u001b[49m\u001b[43m,\u001b[49m\u001b[43m \u001b[49m\u001b[43mstream\u001b[49m\u001b[38;5;241;43m=\u001b[39;49m\u001b[43mstream\u001b[49m\u001b[43m,\u001b[49m\u001b[43m \u001b[49m\u001b[43mstream_cls\u001b[49m\u001b[38;5;241;43m=\u001b[39;49m\u001b[43mstream_cls\u001b[49m\u001b[43m)\u001b[49m)\n",
      "File \u001b[1;32md:\\Internship Assignements\\.venv\\Lib\\site-packages\\openai\\_base_client.py:931\u001b[0m, in \u001b[0;36mSyncAPIClient.request\u001b[1;34m(self, cast_to, options, remaining_retries, stream, stream_cls)\u001b[0m\n\u001b[0;32m    922\u001b[0m \u001b[38;5;28;01mdef\u001b[39;00m \u001b[38;5;21mrequest\u001b[39m(\n\u001b[0;32m    923\u001b[0m     \u001b[38;5;28mself\u001b[39m,\n\u001b[0;32m    924\u001b[0m     cast_to: Type[ResponseT],\n\u001b[1;32m   (...)\u001b[0m\n\u001b[0;32m    929\u001b[0m     stream_cls: \u001b[38;5;28mtype\u001b[39m[_StreamT] \u001b[38;5;241m|\u001b[39m \u001b[38;5;28;01mNone\u001b[39;00m \u001b[38;5;241m=\u001b[39m \u001b[38;5;28;01mNone\u001b[39;00m,\n\u001b[0;32m    930\u001b[0m ) \u001b[38;5;241m-\u001b[39m\u001b[38;5;241m>\u001b[39m ResponseT \u001b[38;5;241m|\u001b[39m _StreamT:\n\u001b[1;32m--> 931\u001b[0m     \u001b[38;5;28;01mreturn\u001b[39;00m \u001b[38;5;28;43mself\u001b[39;49m\u001b[38;5;241;43m.\u001b[39;49m\u001b[43m_request\u001b[49m\u001b[43m(\u001b[49m\n\u001b[0;32m    932\u001b[0m \u001b[43m        \u001b[49m\u001b[43mcast_to\u001b[49m\u001b[38;5;241;43m=\u001b[39;49m\u001b[43mcast_to\u001b[49m\u001b[43m,\u001b[49m\n\u001b[0;32m    933\u001b[0m \u001b[43m        \u001b[49m\u001b[43moptions\u001b[49m\u001b[38;5;241;43m=\u001b[39;49m\u001b[43moptions\u001b[49m\u001b[43m,\u001b[49m\n\u001b[0;32m    934\u001b[0m \u001b[43m        \u001b[49m\u001b[43mstream\u001b[49m\u001b[38;5;241;43m=\u001b[39;49m\u001b[43mstream\u001b[49m\u001b[43m,\u001b[49m\n\u001b[0;32m    935\u001b[0m \u001b[43m        \u001b[49m\u001b[43mstream_cls\u001b[49m\u001b[38;5;241;43m=\u001b[39;49m\u001b[43mstream_cls\u001b[49m\u001b[43m,\u001b[49m\n\u001b[0;32m    936\u001b[0m \u001b[43m        \u001b[49m\u001b[43mremaining_retries\u001b[49m\u001b[38;5;241;43m=\u001b[39;49m\u001b[43mremaining_retries\u001b[49m\u001b[43m,\u001b[49m\n\u001b[0;32m    937\u001b[0m \u001b[43m    \u001b[49m\u001b[43m)\u001b[49m\n",
      "File \u001b[1;32md:\\Internship Assignements\\.venv\\Lib\\site-packages\\openai\\_base_client.py:1015\u001b[0m, in \u001b[0;36mSyncAPIClient._request\u001b[1;34m(self, cast_to, options, remaining_retries, stream, stream_cls)\u001b[0m\n\u001b[0;32m   1013\u001b[0m \u001b[38;5;28;01mif\u001b[39;00m retries \u001b[38;5;241m>\u001b[39m \u001b[38;5;241m0\u001b[39m \u001b[38;5;129;01mand\u001b[39;00m \u001b[38;5;28mself\u001b[39m\u001b[38;5;241m.\u001b[39m_should_retry(err\u001b[38;5;241m.\u001b[39mresponse):\n\u001b[0;32m   1014\u001b[0m     err\u001b[38;5;241m.\u001b[39mresponse\u001b[38;5;241m.\u001b[39mclose()\n\u001b[1;32m-> 1015\u001b[0m     \u001b[38;5;28;01mreturn\u001b[39;00m \u001b[38;5;28;43mself\u001b[39;49m\u001b[38;5;241;43m.\u001b[39;49m\u001b[43m_retry_request\u001b[49m\u001b[43m(\u001b[49m\n\u001b[0;32m   1016\u001b[0m \u001b[43m        \u001b[49m\u001b[43moptions\u001b[49m\u001b[43m,\u001b[49m\n\u001b[0;32m   1017\u001b[0m \u001b[43m        \u001b[49m\u001b[43mcast_to\u001b[49m\u001b[43m,\u001b[49m\n\u001b[0;32m   1018\u001b[0m \u001b[43m        \u001b[49m\u001b[43mretries\u001b[49m\u001b[43m,\u001b[49m\n\u001b[0;32m   1019\u001b[0m \u001b[43m        \u001b[49m\u001b[43merr\u001b[49m\u001b[38;5;241;43m.\u001b[39;49m\u001b[43mresponse\u001b[49m\u001b[38;5;241;43m.\u001b[39;49m\u001b[43mheaders\u001b[49m\u001b[43m,\u001b[49m\n\u001b[0;32m   1020\u001b[0m \u001b[43m        \u001b[49m\u001b[43mstream\u001b[49m\u001b[38;5;241;43m=\u001b[39;49m\u001b[43mstream\u001b[49m\u001b[43m,\u001b[49m\n\u001b[0;32m   1021\u001b[0m \u001b[43m        \u001b[49m\u001b[43mstream_cls\u001b[49m\u001b[38;5;241;43m=\u001b[39;49m\u001b[43mstream_cls\u001b[49m\u001b[43m,\u001b[49m\n\u001b[0;32m   1022\u001b[0m \u001b[43m    \u001b[49m\u001b[43m)\u001b[49m\n\u001b[0;32m   1024\u001b[0m \u001b[38;5;66;03m# If the response is streamed then we need to explicitly read the response\u001b[39;00m\n\u001b[0;32m   1025\u001b[0m \u001b[38;5;66;03m# to completion before attempting to access the response text.\u001b[39;00m\n\u001b[0;32m   1026\u001b[0m \u001b[38;5;28;01mif\u001b[39;00m \u001b[38;5;129;01mnot\u001b[39;00m err\u001b[38;5;241m.\u001b[39mresponse\u001b[38;5;241m.\u001b[39mis_closed:\n",
      "File \u001b[1;32md:\\Internship Assignements\\.venv\\Lib\\site-packages\\openai\\_base_client.py:1063\u001b[0m, in \u001b[0;36mSyncAPIClient._retry_request\u001b[1;34m(self, options, cast_to, remaining_retries, response_headers, stream, stream_cls)\u001b[0m\n\u001b[0;32m   1059\u001b[0m \u001b[38;5;66;03m# In a synchronous context we are blocking the entire thread. Up to the library user to run the client in a\u001b[39;00m\n\u001b[0;32m   1060\u001b[0m \u001b[38;5;66;03m# different thread if necessary.\u001b[39;00m\n\u001b[0;32m   1061\u001b[0m time\u001b[38;5;241m.\u001b[39msleep(timeout)\n\u001b[1;32m-> 1063\u001b[0m \u001b[38;5;28;01mreturn\u001b[39;00m \u001b[38;5;28;43mself\u001b[39;49m\u001b[38;5;241;43m.\u001b[39;49m\u001b[43m_request\u001b[49m\u001b[43m(\u001b[49m\n\u001b[0;32m   1064\u001b[0m \u001b[43m    \u001b[49m\u001b[43moptions\u001b[49m\u001b[38;5;241;43m=\u001b[39;49m\u001b[43moptions\u001b[49m\u001b[43m,\u001b[49m\n\u001b[0;32m   1065\u001b[0m \u001b[43m    \u001b[49m\u001b[43mcast_to\u001b[49m\u001b[38;5;241;43m=\u001b[39;49m\u001b[43mcast_to\u001b[49m\u001b[43m,\u001b[49m\n\u001b[0;32m   1066\u001b[0m \u001b[43m    \u001b[49m\u001b[43mremaining_retries\u001b[49m\u001b[38;5;241;43m=\u001b[39;49m\u001b[43mremaining\u001b[49m\u001b[43m,\u001b[49m\n\u001b[0;32m   1067\u001b[0m \u001b[43m    \u001b[49m\u001b[43mstream\u001b[49m\u001b[38;5;241;43m=\u001b[39;49m\u001b[43mstream\u001b[49m\u001b[43m,\u001b[49m\n\u001b[0;32m   1068\u001b[0m \u001b[43m    \u001b[49m\u001b[43mstream_cls\u001b[49m\u001b[38;5;241;43m=\u001b[39;49m\u001b[43mstream_cls\u001b[49m\u001b[43m,\u001b[49m\n\u001b[0;32m   1069\u001b[0m \u001b[43m\u001b[49m\u001b[43m)\u001b[49m\n",
      "File \u001b[1;32md:\\Internship Assignements\\.venv\\Lib\\site-packages\\openai\\_base_client.py:1015\u001b[0m, in \u001b[0;36mSyncAPIClient._request\u001b[1;34m(self, cast_to, options, remaining_retries, stream, stream_cls)\u001b[0m\n\u001b[0;32m   1013\u001b[0m \u001b[38;5;28;01mif\u001b[39;00m retries \u001b[38;5;241m>\u001b[39m \u001b[38;5;241m0\u001b[39m \u001b[38;5;129;01mand\u001b[39;00m \u001b[38;5;28mself\u001b[39m\u001b[38;5;241m.\u001b[39m_should_retry(err\u001b[38;5;241m.\u001b[39mresponse):\n\u001b[0;32m   1014\u001b[0m     err\u001b[38;5;241m.\u001b[39mresponse\u001b[38;5;241m.\u001b[39mclose()\n\u001b[1;32m-> 1015\u001b[0m     \u001b[38;5;28;01mreturn\u001b[39;00m \u001b[38;5;28;43mself\u001b[39;49m\u001b[38;5;241;43m.\u001b[39;49m\u001b[43m_retry_request\u001b[49m\u001b[43m(\u001b[49m\n\u001b[0;32m   1016\u001b[0m \u001b[43m        \u001b[49m\u001b[43moptions\u001b[49m\u001b[43m,\u001b[49m\n\u001b[0;32m   1017\u001b[0m \u001b[43m        \u001b[49m\u001b[43mcast_to\u001b[49m\u001b[43m,\u001b[49m\n\u001b[0;32m   1018\u001b[0m \u001b[43m        \u001b[49m\u001b[43mretries\u001b[49m\u001b[43m,\u001b[49m\n\u001b[0;32m   1019\u001b[0m \u001b[43m        \u001b[49m\u001b[43merr\u001b[49m\u001b[38;5;241;43m.\u001b[39;49m\u001b[43mresponse\u001b[49m\u001b[38;5;241;43m.\u001b[39;49m\u001b[43mheaders\u001b[49m\u001b[43m,\u001b[49m\n\u001b[0;32m   1020\u001b[0m \u001b[43m        \u001b[49m\u001b[43mstream\u001b[49m\u001b[38;5;241;43m=\u001b[39;49m\u001b[43mstream\u001b[49m\u001b[43m,\u001b[49m\n\u001b[0;32m   1021\u001b[0m \u001b[43m        \u001b[49m\u001b[43mstream_cls\u001b[49m\u001b[38;5;241;43m=\u001b[39;49m\u001b[43mstream_cls\u001b[49m\u001b[43m,\u001b[49m\n\u001b[0;32m   1022\u001b[0m \u001b[43m    \u001b[49m\u001b[43m)\u001b[49m\n\u001b[0;32m   1024\u001b[0m \u001b[38;5;66;03m# If the response is streamed then we need to explicitly read the response\u001b[39;00m\n\u001b[0;32m   1025\u001b[0m \u001b[38;5;66;03m# to completion before attempting to access the response text.\u001b[39;00m\n\u001b[0;32m   1026\u001b[0m \u001b[38;5;28;01mif\u001b[39;00m \u001b[38;5;129;01mnot\u001b[39;00m err\u001b[38;5;241m.\u001b[39mresponse\u001b[38;5;241m.\u001b[39mis_closed:\n",
      "File \u001b[1;32md:\\Internship Assignements\\.venv\\Lib\\site-packages\\openai\\_base_client.py:1063\u001b[0m, in \u001b[0;36mSyncAPIClient._retry_request\u001b[1;34m(self, options, cast_to, remaining_retries, response_headers, stream, stream_cls)\u001b[0m\n\u001b[0;32m   1059\u001b[0m \u001b[38;5;66;03m# In a synchronous context we are blocking the entire thread. Up to the library user to run the client in a\u001b[39;00m\n\u001b[0;32m   1060\u001b[0m \u001b[38;5;66;03m# different thread if necessary.\u001b[39;00m\n\u001b[0;32m   1061\u001b[0m time\u001b[38;5;241m.\u001b[39msleep(timeout)\n\u001b[1;32m-> 1063\u001b[0m \u001b[38;5;28;01mreturn\u001b[39;00m \u001b[38;5;28;43mself\u001b[39;49m\u001b[38;5;241;43m.\u001b[39;49m\u001b[43m_request\u001b[49m\u001b[43m(\u001b[49m\n\u001b[0;32m   1064\u001b[0m \u001b[43m    \u001b[49m\u001b[43moptions\u001b[49m\u001b[38;5;241;43m=\u001b[39;49m\u001b[43moptions\u001b[49m\u001b[43m,\u001b[49m\n\u001b[0;32m   1065\u001b[0m \u001b[43m    \u001b[49m\u001b[43mcast_to\u001b[49m\u001b[38;5;241;43m=\u001b[39;49m\u001b[43mcast_to\u001b[49m\u001b[43m,\u001b[49m\n\u001b[0;32m   1066\u001b[0m \u001b[43m    \u001b[49m\u001b[43mremaining_retries\u001b[49m\u001b[38;5;241;43m=\u001b[39;49m\u001b[43mremaining\u001b[49m\u001b[43m,\u001b[49m\n\u001b[0;32m   1067\u001b[0m \u001b[43m    \u001b[49m\u001b[43mstream\u001b[49m\u001b[38;5;241;43m=\u001b[39;49m\u001b[43mstream\u001b[49m\u001b[43m,\u001b[49m\n\u001b[0;32m   1068\u001b[0m \u001b[43m    \u001b[49m\u001b[43mstream_cls\u001b[49m\u001b[38;5;241;43m=\u001b[39;49m\u001b[43mstream_cls\u001b[49m\u001b[43m,\u001b[49m\n\u001b[0;32m   1069\u001b[0m \u001b[43m\u001b[49m\u001b[43m)\u001b[49m\n",
      "File \u001b[1;32md:\\Internship Assignements\\.venv\\Lib\\site-packages\\openai\\_base_client.py:1030\u001b[0m, in \u001b[0;36mSyncAPIClient._request\u001b[1;34m(self, cast_to, options, remaining_retries, stream, stream_cls)\u001b[0m\n\u001b[0;32m   1027\u001b[0m         err\u001b[38;5;241m.\u001b[39mresponse\u001b[38;5;241m.\u001b[39mread()\n\u001b[0;32m   1029\u001b[0m     log\u001b[38;5;241m.\u001b[39mdebug(\u001b[38;5;124m\"\u001b[39m\u001b[38;5;124mRe-raising status error\u001b[39m\u001b[38;5;124m\"\u001b[39m)\n\u001b[1;32m-> 1030\u001b[0m     \u001b[38;5;28;01mraise\u001b[39;00m \u001b[38;5;28mself\u001b[39m\u001b[38;5;241m.\u001b[39m_make_status_error_from_response(err\u001b[38;5;241m.\u001b[39mresponse) \u001b[38;5;28;01mfrom\u001b[39;00m \u001b[38;5;28;01mNone\u001b[39;00m\n\u001b[0;32m   1032\u001b[0m \u001b[38;5;28;01mreturn\u001b[39;00m \u001b[38;5;28mself\u001b[39m\u001b[38;5;241m.\u001b[39m_process_response(\n\u001b[0;32m   1033\u001b[0m     cast_to\u001b[38;5;241m=\u001b[39mcast_to,\n\u001b[0;32m   1034\u001b[0m     options\u001b[38;5;241m=\u001b[39moptions,\n\u001b[1;32m   (...)\u001b[0m\n\u001b[0;32m   1037\u001b[0m     stream_cls\u001b[38;5;241m=\u001b[39mstream_cls,\n\u001b[0;32m   1038\u001b[0m )\n",
      "\u001b[1;31mRateLimitError\u001b[0m: Error code: 429 - {'error': {'message': 'You exceeded your current quota, please check your plan and billing details. For more information on this error, read the docs: https://platform.openai.com/docs/guides/error-codes/api-errors.', 'type': 'insufficient_quota', 'param': None, 'code': 'insufficient_quota'}}"
     ]
    }
   ],
   "source": [
    "vectorstore_openAI = FAISS.from_documents(docs,embeddings)\n",
    "\n",
    "with open(\"faiss_store_openai.pkl\",\"wb\") as f :\n",
    "    pickle.dump(vectorstore_openAI,f)"
   ]
  },
  {
   "cell_type": "code",
   "execution_count": null,
   "metadata": {},
   "outputs": [
    {
     "ename": "EOFError",
     "evalue": "Ran out of input",
     "output_type": "error",
     "traceback": [
      "\u001b[1;31m---------------------------------------------------------------------------\u001b[0m",
      "\u001b[1;31mEOFError\u001b[0m                                  Traceback (most recent call last)",
      "Cell \u001b[1;32mIn[27], line 2\u001b[0m\n\u001b[0;32m      1\u001b[0m \u001b[38;5;28;01mwith\u001b[39;00m \u001b[38;5;28mopen\u001b[39m(\u001b[38;5;124m\"\u001b[39m\u001b[38;5;124mfaiss_store_openai.pkl\u001b[39m\u001b[38;5;124m\"\u001b[39m,\u001b[38;5;124m\"\u001b[39m\u001b[38;5;124mrb\u001b[39m\u001b[38;5;124m\"\u001b[39m) \u001b[38;5;28;01mas\u001b[39;00m f :\n\u001b[1;32m----> 2\u001b[0m     VectorStore \u001b[38;5;241m=\u001b[39m \u001b[43mpickle\u001b[49m\u001b[38;5;241;43m.\u001b[39;49m\u001b[43mload\u001b[49m\u001b[43m(\u001b[49m\u001b[43mf\u001b[49m\u001b[43m)\u001b[49m\n",
      "\u001b[1;31mEOFError\u001b[0m: Ran out of input"
     ]
    }
   ],
   "source": [
    "with open(\"faiss_store_openai.pkl\",\"rb\") as f :\n",
    "    VectorStore = pickle.load(f)"
   ]
  },
  {
   "cell_type": "code",
   "execution_count": null,
   "metadata": {},
   "outputs": [],
   "source": [
    "from langchain.chains import RetrievalQAWithSourcesChain\n",
    "from langchain.chains.question_answering import load_qa_chain\n",
    "from langchain import OpenAI"
   ]
  },
  {
   "cell_type": "code",
   "execution_count": null,
   "metadata": {},
   "outputs": [
    {
     "name": "stderr",
     "output_type": "stream",
     "text": [
      "d:\\Internship Assignements\\.venv\\Lib\\site-packages\\langchain_core\\_api\\deprecation.py:139: LangChainDeprecationWarning: The class `OpenAI` was deprecated in LangChain 0.0.10 and will be removed in 0.3.0. An updated version of the class exists in the langchain-openai package and should be used instead. To use it run `pip install -U langchain-openai` and import as `from langchain_openai import OpenAI`.\n",
      "  warn_deprecated(\n",
      "d:\\Internship Assignements\\.venv\\Lib\\site-packages\\langchain_core\\utils\\utils.py:161: UserWarning: WARNING! temparature is not default parameter.\n",
      "                temparature was transferred to model_kwargs.\n",
      "                Please confirm that temparature is what you intended.\n",
      "  warnings.warn(\n"
     ]
    }
   ],
   "source": [
    "llm = OpenAI(temparature=0)"
   ]
  },
  {
   "cell_type": "code",
   "execution_count": null,
   "metadata": {},
   "outputs": [
    {
     "ename": "NameError",
     "evalue": "name 'VectorStore' is not defined",
     "output_type": "error",
     "traceback": [
      "\u001b[1;31m---------------------------------------------------------------------------\u001b[0m",
      "\u001b[1;31mNameError\u001b[0m                                 Traceback (most recent call last)",
      "Cell \u001b[1;32mIn[30], line 1\u001b[0m\n\u001b[1;32m----> 1\u001b[0m chain \u001b[38;5;241m=\u001b[39m RetrievalQAWithSourcesChain\u001b[38;5;241m.\u001b[39mfrom_llm(llm\u001b[38;5;241m=\u001b[39mllm, retriever \u001b[38;5;241m=\u001b[39m \u001b[43mVectorStore\u001b[49m\u001b[38;5;241m.\u001b[39mas_retriever())\n",
      "\u001b[1;31mNameError\u001b[0m: name 'VectorStore' is not defined"
     ]
    }
   ],
   "source": [
    "chain = RetrievalQAWithSourcesChain.from_llm(llm=llm, retriever = VectorStore.as_retriever())\n"
   ]
  },
  {
   "cell_type": "code",
   "execution_count": null,
   "metadata": {},
   "outputs": [
    {
     "ename": "NameError",
     "evalue": "name 'chain' is not defined",
     "output_type": "error",
     "traceback": [
      "\u001b[1;31m---------------------------------------------------------------------------\u001b[0m",
      "\u001b[1;31mNameError\u001b[0m                                 Traceback (most recent call last)",
      "Cell \u001b[1;32mIn[31], line 1\u001b[0m\n\u001b[1;32m----> 1\u001b[0m \u001b[43mchain\u001b[49m({\u001b[38;5;124m\"\u001b[39m\u001b[38;5;124mquestion\u001b[39m\u001b[38;5;124m\"\u001b[39m:\u001b[38;5;124m\"\u001b[39m\u001b[38;5;124mWhat is Scratch Programming\u001b[39m\u001b[38;5;124m\"\u001b[39m},return_only_outputd\u001b[38;5;241m=\u001b[39m\u001b[38;5;28;01mTrue\u001b[39;00m)\n",
      "\u001b[1;31mNameError\u001b[0m: name 'chain' is not defined"
     ]
    }
   ],
   "source": [
    "chain({\"question\":\"What is Scratch Programming\"},return_only_outputd=True)"
   ]
  }
 ],
 "metadata": {
  "kernelspec": {
   "display_name": "Python 3",
   "language": "python",
   "name": "python3"
  },
  "language_info": {
   "codemirror_mode": {
    "name": "ipython",
    "version": 3
   },
   "file_extension": ".py",
   "mimetype": "text/x-python",
   "name": "python",
   "nbconvert_exporter": "python",
   "pygments_lexer": "ipython3",
   "version": "3.11.1"
  }
 },
 "nbformat": 4,
 "nbformat_minor": 2
}
